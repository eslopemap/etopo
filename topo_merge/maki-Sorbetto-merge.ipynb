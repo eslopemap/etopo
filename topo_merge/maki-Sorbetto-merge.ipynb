{
 "cells": [
  {
   "cell_type": "markdown",
   "metadata": {},
   "source": [
    "# Merge Sorbetto and serve as pmtiles\n",
    "\n",
    "It's all in the title :)\n",
    "Pre-requisite: \n",
    "* Sorbetto files downloaded in the working directory below (links in https://tartamillo.wordpress.com/sorbetto/)\n",
    "* s3 object store setup done in aws-cli (for the very end)"
   ]
  },
  {
   "cell_type": "code",
   "execution_count": 2,
   "metadata": {},
   "outputs": [],
   "source": [
    "%load_ext autoreload\n",
    "%autoreload 2"
   ]
  },
  {
   "cell_type": "code",
   "execution_count": 3,
   "metadata": {},
   "outputs": [],
   "source": [
    "import os\n",
    "import sys\n",
    "NBROOT = os.path.realpath(os.curdir)\n",
    "sys.path.append(NBROOT + '/../../eslope/development/src')\n",
    "import mbt_util as M"
   ]
  },
  {
   "cell_type": "code",
   "execution_count": 4,
   "metadata": {},
   "outputs": [
    {
     "name": "stdout",
     "output_type": "stream",
     "text": [
      "/home/eoubrayrie/Downloads/dwnmaps/mapdata/mbtiles/Sorbetto\n"
     ]
    }
   ],
   "source": [
    "%cd ~/Downloads/dwnmaps/mapdata/mbtiles/Sorbetto/"
   ]
  },
  {
   "cell_type": "code",
   "execution_count": 4,
   "metadata": {},
   "outputs": [],
   "source": [
    "import glob\n",
    "\n",
    "paths = glob.glob('S2201/Sorbetto 2201 *.mbtiles')\n",
    "assert len(paths) == 16, 'Missing paths in' + str(paths)"
   ]
  },
  {
   "cell_type": "code",
   "execution_count": 21,
   "metadata": {},
   "outputs": [],
   "source": [
    "desc = '''Sorbetto 2201 : \n",
    "<p>Questa mappa è pensata per l’uso sci alpinistico in Piemonte, Val d’Aosta e zone confinanti. Lo scopo principale è conoscere a priori l’inclinazione del terreno.</p>\n",
    "\n",
    "<p><strong>La mappa è stata elaborata con strumenti automatici. Sono state fatte verifiche a campione e apparentemente l’indicazione è abbastanza precisa, ma non posso assumermi nessuna responsabilità sull’esattezza di quanto rappresentato. I dati presenti in OpenStreetMap sono inseriti da volontari e possono risultare talvolta errati e/o incompleti. L’utilizzo è a vostro rischio e pericolo.</strong></p>\n",
    "\n",
    "<p>L’inclinazione, calcolata con GDALDEM a partire dai DTM di Regione Piemonte, Valle d’Aosta, Liguria, Swisstopo e IGN France è rappresentata secondo il seguente schema al massimo livello di zoom disponibile:</p>\n",
    "\n",
    "<ul>\n",
    "<li>fino a 5° verde</li>\n",
    "<li>da 5° a 10° eliminazione progressiva della colorazione</li>\n",
    "<li>da 30° a 45° passaggio progressivo da giallo a rosso</li>\n",
    "<li>da 45° a 50° colorazione rossa uniforme</li>\n",
    "...\n",
    "<p>La mappa è rilasciata sotto <a href=\"https://creativecommons.org/licenses/by-nc-sa/4.0/deed.it\">licenza Creative Commons CC BY-NC-SA 4.0 IT</a> </p>\n",
    "\n",
    "<p>Potete verificare l’eventuale esistenza di una versione aggiornata all’URL:<a href=\"https://tartamillo.wordpress.com/sorbetto/\">https://tartamillo.wordpress.com/sorbetto/</a></p>\n",
    "'''\n",
    "M.mbt_merge(*paths,\n",
    "            dest='Sorbetto.mbtiles',\n",
    "            description=desc)"
   ]
  },
  {
   "cell_type": "code",
   "execution_count": 7,
   "metadata": {},
   "outputs": [],
   "source": [
    "# Don't keep duplicate indexes\n",
    "import sqlite3\n",
    "db = sqlite3.connect('Sorbetto.mbtiles')\n",
    "try:\n",
    "    print(list(db.cursor().execute(\"SELECT name, tbl_name FROM sqlite_master WHERE type = 'index';\")))\n",
    "    db.cursor().execute('DROP INDEX IF EXISTS tiles_id')\n",
    "    db.cursor().execute('DROP INDEX IF EXISTS tiles_idx')\n",
    "finally:\n",
    "    db.commit()\n",
    "    db.close()\n"
   ]
  },
  {
   "cell_type": "code",
   "execution_count": 17,
   "metadata": {},
   "outputs": [
    {
     "name": "stdout",
     "output_type": "stream",
     "text": [
      "the bounds: LngLatBbox(west=6.591796874999988, south=44.02442151965934, east=8.701171875000016, north=46.49839225859762)\n",
      "Falling back to first tile  12 2123 2619 LngLatBbox(west=6.591796874999988, south=44.77793589631623, east=6.679687499999988, north=44.840290651397986)\n"
     ]
    },
    {
     "data": {
      "text/plain": [
       "'zoom = 12 16 ; n = 157542 ; bounds = 6.5918,44.02442,8.70117,46.49839 ; center = 6.63574,44.80911,12 ; format = jpg'"
      ]
     },
     "execution_count": 17,
     "metadata": {},
     "output_type": "execute_result"
    }
   ],
   "source": [
    "M.set_real_bounds('Sorbetto.mbtiles')\n",
    "M.mbt_info('Sorbetto.mbtiles')"
   ]
  },
  {
   "cell_type": "code",
   "execution_count": 22,
   "metadata": {},
   "outputs": [],
   "source": [
    "!command -v pmtiles-convert &> /dev/null || pip install pmtiles"
   ]
  },
  {
   "cell_type": "code",
   "execution_count": 18,
   "metadata": {},
   "outputs": [
    {
     "name": "stdout",
     "output_type": "stream",
     "text": [
      "# of addressed tiles: 157542\n",
      "# of tile entries (after RLE): 157126\n",
      "# of tile contents: 156953\n",
      "Root dir bytes: 196\n",
      "Leaves dir bytes: 355820\n",
      "Num leaf dirs: 39\n",
      "Total dir bytes: 356016\n",
      "Average leaf dir bytes: 9123.589743589744\n",
      "Average bytes per addressed tile: 2.2598164299044066\n"
     ]
    }
   ],
   "source": [
    "#sys.path.insert(0, NBROOT + '/../../../UPSTREAM/pmtiles/python/')\n",
    "from pmtiles import convert\n",
    "convert.mbtiles_to_pmtiles('Sorbetto.mbtiles', 'Sorbetto.pmtiles', None)\n",
    "#!pmtiles-convert Sorbetto.{mb,pm}tiles"
   ]
  },
  {
   "cell_type": "code",
   "execution_count": 11,
   "metadata": {},
   "outputs": [],
   "source": [
    "# configure your s3\n",
    "# pip install awscli-plugin-endpoint\n",
    "# aws configure set plugins.endpoint awscli_plugin_endpoint\n",
    "# aws configure"
   ]
  },
  {
   "cell_type": "code",
   "execution_count": 5,
   "metadata": {},
   "outputs": [
    {
     "name": "stdout",
     "output_type": "stream",
     "text": [
      "^C\n"
     ]
    }
   ],
   "source": [
    "!aws s3 cp --acl public-read ./Sorbetto.pmtiles s3://maki/"
   ]
  },
  {
   "cell_type": "code",
   "execution_count": 3,
   "metadata": {},
   "outputs": [],
   "source": [
    "!aws s3api put-bucket-cors --bucket maki --cors-configuration \\\n",
    "    '{\"CORSRules\": [{\"AllowedOrigins\": [\"*\"], \"AllowedHeaders\": [\"*\"], \"AllowedMethods\": [\"GET\", \"HEAD\"], \"MaxAgeSeconds\": 3000, \"ExposeHeaders\": [\"Etag\"]}]}'"
   ]
  },
  {
   "attachments": {},
   "cell_type": "markdown",
   "metadata": {},
   "source": [
    "# Same, with Bugianen"
   ]
  },
  {
   "cell_type": "code",
   "execution_count": 20,
   "metadata": {},
   "outputs": [
    {
     "name": "stdout",
     "output_type": "stream",
     "text": [
      "/home/eoubrayrie/Downloads/dwnmaps/mapdata/mbtiles/Bugianen\n"
     ]
    }
   ],
   "source": [
    "%cd ~/Downloads/dwnmaps/mapdata/mbtiles/Bugianen/"
   ]
  },
  {
   "cell_type": "code",
   "execution_count": 2,
   "metadata": {},
   "outputs": [],
   "source": [
    "import glob\n",
    "\n",
    "paths = glob.glob('Bugianen 2205 *.mbtiles')\n",
    "assert len(paths) == 12, 'Missing paths in' + str(paths)"
   ]
  },
  {
   "cell_type": "code",
   "execution_count": 5,
   "metadata": {},
   "outputs": [
    {
     "name": "stdout",
     "output_type": "stream",
     "text": [
      "cp Bugianen 2205 Gran Paradiso.mbtiles Bugianen.mbtiles\n",
      "<<>> Bugianen 2205 Gran Paradiso : zoom = 12 16 ; n = 19411 ; bounds = 6.943,45.398,7.910,45.768 ; format = jpg\n",
      "Deduplicating Bugianen.mbtiles....\n",
      "<< Bugianen 2205 Germanasca : zoom = 12 16 ; n = 15004 ; bounds = 6.592,44.778,7.471,45.089 ; format = jpg\n",
      ">> Bugianen : zoom = 12 16 ; n = 34415 ; bounds = 6.59200,44.77800,7.91000,45.76800 ; format = jpg\n",
      "<< Bugianen 2205 Cuneese : zoom = 12 16 ; n = 22847 ; bounds = 6.768,44.088,7.646,44.590 ; format = jpg\n",
      ">> Bugianen : zoom = 12 16 ; n = 57262 ; bounds = 6.59200,44.08800,7.91000,45.76800 ; format = jpg\n",
      "<< Bugianen 2205 Monviso : zoom = 12 16 ; n = 12617 ; bounds = 6.855,44.528,7.559,44.840 ; format = jpg\n",
      ">> Bugianen : zoom = 12 16 ; n = 65105 ; bounds = 6.59200,44.08800,7.91000,45.76800 ; format = jpg\n",
      "<< Bugianen 2205 Monregalese : zoom = 12 16 ; n = 14322 ; bounds = 7.559,44.024,8.174,44.402 ; format = jpg\n",
      ">> Bugianen : zoom = 12 16 ; n = 78063 ; bounds = 6.59200,44.02400,8.17400,45.76800 ; format = jpg\n",
      "<< Bugianen 2205 Monte Bianco : zoom = 12 16 ; n = 13981 ; bounds = 6.67969,45.58329,7.38281,45.95115 ; format = jpg\n",
      ">> Bugianen : zoom = 12 16 ; n = 89657 ; bounds = 6.59200,44.02400,8.17400,45.95115 ; format = jpg\n",
      "<< Bugianen 2205 Lanzo : zoom = 12 16 ; n = 9207 ; bounds = 7.031,45.213,7.646,45.460 ; format = jpg\n",
      ">> Bugianen : zoom = 12 16 ; n = 96477 ; bounds = 6.59200,44.02400,8.17400,45.95115 ; format = jpg\n",
      "<< Bugianen 2205 Susa : zoom = 12 16 ; n = 13981 ; bounds = 6.592,45.027,7.559,45.275 ; format = jpg\n",
      ">> Bugianen : zoom = 12 16 ; n = 105002 ; bounds = 6.59200,44.02400,8.17400,45.95115 ; format = jpg\n",
      "<< Bugianen 2205 Ossola : zoom = 12 16 ; n = 13299 ; bounds = 7.998,46.073,8.701,46.498 ; format = jpg\n",
      ">> Bugianen : zoom = 12 16 ; n = 118301 ; bounds = 6.59200,44.02400,8.70100,46.49800 ; format = jpg\n",
      "<< Bugianen 2205 Verbano : zoom = 12 16 ; n = 15345 ; bounds = 8.174,45.645,8.789,46.134 ; format = jpg\n",
      ">> Bugianen : zoom = 12 16 ; n = 131600 ; bounds = 6.59200,44.02400,8.78900,46.49800 ; format = jpg\n",
      "<< Bugianen 2205 Monte Rosa : zoom = 12 16 ; n = 22165 ; bounds = 7.646,45.522,8.262,46.134 ; format = jpg\n",
      ">> Bugianen : zoom = 12 16 ; n = 148309 ; bounds = 6.59200,44.02400,8.78900,46.49800 ; format = jpg\n",
      "<< Bugianen 2205 Cervino : zoom = 12 16 ; n = 8525 ; bounds = 7.295,45.706,7.734,46.012 ; format = jpg\n",
      ">> Bugianen : zoom = 12 16 ; n = 152742 ; bounds = 6.59200,44.02400,8.78900,46.49800 ; format = jpg\n",
      "Created: Bugianen Merge of the following files:\n",
      "* Bugianen 2205 Gran Paradiso : Mappa escursionistica delle alpi piemontesi, valdostane e dintorni. Licenza Creative Commons CC BY-NC-SA 3.0 IT. Per la legenda e l'origine dei dati visita <a href=\"https://tartamillo.wordpress.com/sorbetto/\">tartamillo.wordpress.com/sorbetto/</a>\n",
      "* Bugianen 2205 Germanasca : Mappa escursionistica delle alpi piemontesi, valdostane e dintorni. Licenza Creative Commons CC BY-NC-SA 3.0 IT. Per la legenda e l'origine dei dati visita <a href=\"https://tartamillo.wordpress.com/sorbetto/\">tartamillo.wordpress.com/sorbetto/</a>\n",
      "* Bugianen 2205 Cuneese : Mappa escursionistica delle alpi piemontesi, valdostane e dintorni. Licenza Creative Commons CC BY-NC-SA 3.0 IT. Per la legenda e l'origine dei dati visita <a href=\"https://tartamillo.wordpress.com/sorbetto/\">tartamillo.wordpress.com/sorbetto/</a>\n",
      "* Bugianen 2205 Monviso : Mappa escursionistica delle alpi piemontesi, valdostane e dintorni. Licenza Creative Commons CC BY-NC-SA 3.0 IT. Per la legenda e l'origine dei dati visita <a href=\"https://tartamillo.wordpress.com/sorbetto/\">tartamillo.wordpress.com/sorbetto/</a>\n",
      "* Bugianen 2205 Monregalese : Mappa escursionistica delle alpi piemontesi, valdostane e dintorni. Licenza Creative Commons CC BY-NC-SA 3.0 IT. Per la legenda e l'origine dei dati visita <a href=\"https://tartamillo.wordpress.com/sorbetto/\">tartamillo.wordpress.com/sorbetto/</a>\n",
      "* Bugianen 2205 Monte Bianco : Mappa escursionistica delle alpi piemontesi, valdostane e dintorni. Licenza Creative Commons CC BY-NC-SA 3.0 IT. Per la legenda e l'origine dei dati visita <a href=\"https://tartamillo.wordpress.com/sorbetto/\">tartamillo.wordpress.com/sorbetto/</a>\n",
      "* Bugianen 2205 Lanzo : Mappa escursionistica delle alpi piemontesi, valdostane e dintorni. Licenza Creative Commons CC BY-NC-SA 3.0 IT. Per la legenda e l'origine dei dati visita <a href=\"https://tartamillo.wordpress.com/sorbetto/\">tartamillo.wordpress.com/sorbetto/</a>\n",
      "* Bugianen 2205 Susa : Mappa escursionistica delle alpi piemontesi, valdostane e dintorni. Licenza Creative Commons CC BY-NC-SA 3.0 IT. Per la legenda e l'origine dei dati visita <a href=\"https://tartamillo.wordpress.com/sorbetto/\">tartamillo.wordpress.com/sorbetto/</a>\n",
      "* Bugianen 2205 Ossola : Mappa escursionistica delle alpi piemontesi, valdostane e dintorni. Licenza Creative Commons CC BY-NC-SA 3.0 IT. Per la legenda e l'origine dei dati visita <a href=\"https://tartamillo.wordpress.com/sorbetto/\">tartamillo.wordpress.com/sorbetto/</a>\n",
      "* Bugianen 2205 Verbano : Mappa escursionistica delle alpi piemontesi, valdostane e dintorni. Licenza Creative Commons CC BY-NC-SA 3.0 IT. Per la legenda e l'origine dei dati visita <a href=\"https://tartamillo.wordpress.com/sorbetto/\">tartamillo.wordpress.com/sorbetto/</a>\n",
      "* Bugianen 2205 Monte Rosa : Mappa escursionistica delle alpi piemontesi, valdostane e dintorni. Licenza Creative Commons CC BY-NC-SA 3.0 IT. Per la legenda e l'origine dei dati visita <a href=\"https://tartamillo.wordpress.com/sorbetto/\">tartamillo.wordpress.com/sorbetto/</a>\n",
      "* Bugianen 2205 Cervino : Mappa escursionistica delle alpi piemontesi, valdostane e dintorni. Licenza Creative Commons CC BY-NC-SA 3.0 IT. Per la legenda e l'origine dei dati visita <a href=\"https://tartamillo.wordpress.com/sorbetto/\">tartamillo.wordpress.com/sorbetto/</a>\n",
      "\n"
     ]
    }
   ],
   "source": [
    "M.mbt_merge(*paths,\n",
    "            dest='Bugianen.mbtiles',\n",
    "            description='https://tartamillo.wordpress.com/bugianen')"
   ]
  },
  {
   "cell_type": "code",
   "execution_count": 9,
   "metadata": {},
   "outputs": [],
   "source": [
    "M.update_mbt_meta('Bugianen.mbtiles', desc=\n",
    "'''Bugianen 2205 Cervino : Mappa escursionistica delle alpi piemontesi, valdostane e dintorni.\n",
    "Licenza Creative Commons CC BY-NC-SA 3.0 IT.\n",
    "Per la legenda e l'origine dei dati visita <a href=\"https://tartamillo.wordpress.com/sorbetto/\">tartamillo.wordpress.com/sorbetto/</a>''')"
   ]
  },
  {
   "cell_type": "code",
   "execution_count": 13,
   "metadata": {},
   "outputs": [
    {
     "name": "stdout",
     "output_type": "stream",
     "text": [
      "[('tiles_idx', 'tiles'), ('metadata_idx', 'metadata'), ('zxy', 'tiles'), ('meta', 'metadata')]\n"
     ]
    }
   ],
   "source": [
    "# Don't keep duplicate indexes\n",
    "import sqlite3\n",
    "db = sqlite3.connect('Bugianen.mbtiles')\n",
    "try:\n",
    "    print(list(db.cursor().execute(\"SELECT name, tbl_name FROM sqlite_master WHERE type = 'index';\")))\n",
    "    db.cursor().execute('DROP INDEX IF EXISTS tiles_id')\n",
    "    db.cursor().execute('DROP INDEX IF EXISTS tiles_idx')\n",
    "finally:\n",
    "    db.commit()\n",
    "    db.close()\n"
   ]
  },
  {
   "cell_type": "code",
   "execution_count": 21,
   "metadata": {},
   "outputs": [
    {
     "name": "stdout",
     "output_type": "stream",
     "text": [
      "the bounds: LngLatBbox(west=6.591796874999988, south=44.02442151965934, east=8.789062500000012, north=46.49839225859762)\n",
      "Falling back to first tile  12 2123 2620 LngLatBbox(west=6.591796874999988, south=44.840290651397986, east=6.679687499999988, north=44.902577996288855)\n"
     ]
    },
    {
     "data": {
      "text/plain": [
       "'zoom = 12 16 ; n = 152742 ; bounds = 6.5918,44.02442,8.78906,46.49839 ; center = 6.63574,44.87143,12 ; format = jpg'"
      ]
     },
     "execution_count": 21,
     "metadata": {},
     "output_type": "execute_result"
    }
   ],
   "source": [
    "M.set_real_bounds('Bugianen.mbtiles')\n",
    "M.mbt_info('Bugianen.mbtiles')"
   ]
  },
  {
   "cell_type": "code",
   "execution_count": 22,
   "metadata": {},
   "outputs": [
    {
     "name": "stdout",
     "output_type": "stream",
     "text": [
      "# of addressed tiles: 152742\n",
      "# of tile entries (after RLE): 152173\n",
      "# of tile contents: 151957\n",
      "Root dir bytes: 192\n",
      "Leaves dir bytes: 340058\n",
      "Num leaf dirs: 38\n",
      "Total dir bytes: 340250\n",
      "Average leaf dir bytes: 8948.894736842105\n",
      "Average bytes per addressed tile: 2.2276125754540335\n"
     ]
    }
   ],
   "source": [
    "from pmtiles import convert\n",
    "convert.mbtiles_to_pmtiles('Bugianen.mbtiles', 'Bugianen.pmtiles', None)"
   ]
  },
  {
   "cell_type": "code",
   "execution_count": null,
   "metadata": {},
   "outputs": [],
   "source": []
  }
 ],
 "metadata": {
  "kernelspec": {
   "display_name": "Python 3",
   "language": "python",
   "name": "python3"
  },
  "language_info": {
   "codemirror_mode": {
    "name": "ipython",
    "version": 3
   },
   "file_extension": ".py",
   "mimetype": "text/x-python",
   "name": "python",
   "nbconvert_exporter": "python",
   "pygments_lexer": "ipython3",
   "version": "3.10.2"
  },
  "orig_nbformat": 4,
  "vscode": {
   "interpreter": {
    "hash": "4913ed92adf4fb24dff325cddf3820899273b13e1364fac2e6040e861e7b0f0a"
   }
  }
 },
 "nbformat": 4,
 "nbformat_minor": 2
}
