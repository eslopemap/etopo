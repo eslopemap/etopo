{
 "cells": [
  {
   "cell_type": "code",
   "execution_count": 1,
   "id": "deae76cd",
   "metadata": {},
   "outputs": [],
   "source": [
    "%load_ext autoreload\n",
    "%autoreload 2"
   ]
  },
  {
   "cell_type": "code",
   "execution_count": 2,
   "id": "7a95b588",
   "metadata": {},
   "outputs": [],
   "source": [
    "import os\n",
    "from os.path import exists, join as pjoin, realpath\n",
    "NBROOT = realpath(os.curdir)\n",
    "\n",
    "import logging\n",
    "logging.basicConfig(level=logging.DEBUG)\n",
    "\n",
    "import sys\n",
    "sys.path.append(realpath('..'))\n",
    "sys.path.append(realpath('../../eslope/development/src'))\n",
    "\n",
    "from subprocess import check_call, CalledProcessError\n",
    "\n",
    "try:\n",
    "    # like os.system but with live output\n",
    "    from IPython.utils.process import system\n",
    "    def check_run(cmd):  # type:ignore\n",
    "        r = system(cmd)\n",
    "        if r: raise CalledProcessError(r, cmd)\n",
    "        return r\n",
    "except ImportError:\n",
    "    from os import system\n",
    "    def check_run(cmd):\n",
    "        return check_call(cmd, shell=True)\n",
    "\n",
    "from IPython.display import display, Image\n",
    "from PIL import Image as Img\n",
    "\n",
    "# own\n",
    "import mbt_util as M\n",
    "from src import etopo_meta as E, img_util as G, geometry as GY\n"
   ]
  },
  {
   "cell_type": "code",
   "execution_count": 3,
   "metadata": {},
   "outputs": [],
   "source": [
    "names = GY.bbalp_names\n",
    "paths = {i: name + '.mbtiles' for i, name in names.items()}\n",
    "mbtfold = '/opt/map/mapdata/mbtiles/'\n",
    "abspaths = {i: mbtfold + p for i, p in paths.items()}"
   ]
  },
  {
   "attachments": {},
   "cell_type": "markdown",
   "metadata": {},
   "source": [
    "# Metadata update"
   ]
  },
  {
   "cell_type": "code",
   "execution_count": 75,
   "metadata": {},
   "outputs": [
    {
     "name": "stdout",
     "output_type": "stream",
     "text": [
      "1 d: Carte topographique de la zone alps1-Mercantour-Ubaye-Cuneese, fusion de cartes IGN et Bugianen:\n",
      "* IGN Top 25 et Top 100 (2021). https://www.geoportail.gouv.fr\n",
      "* Bugianen 2205 (2022) : Mappa escursionistica delle alpi piemontesi, valdostane e dintorni.\n",
      "Per la legenda e l'origine dei dati visita <a href=\"https://tartamillo.wordpress.com/bugianen/\n",
      " \n",
      "a: © <a href=\"https://geoservices.ign.fr/cgu-licences\">IGN 2021</a> / © <a href=\"https://tartamillo.wordpress.com/bugianen/\">CC BY-NC-SA 3.0 Maki</a>\n",
      "\n",
      "2 d: Carte topographique de la zone alps2-Gap-Digne-Toulon-Apt: IGN Top 25 et Top 100 (2021). https://www.geoportail.gouv.fr \n",
      "a: © <a href=\"https://geoservices.ign.fr/cgu-licences\">IGN 2021</a>\n",
      "\n",
      "3 d: Carte topographique de la zone alps3-Vercors-Ecrins-Queyras-Cozie, fusion de cartes IGN et Bugianen:\n",
      "* IGN Top 25 et Top 100 (2021). https://www.geoportail.gouv.fr\n",
      "* Bugianen 2205 (2022) : Mappa escursionistica delle alpi piemontesi, valdostane e dintorni.\n",
      "Per la legenda e l'origine dei dati visita <a href=\"https://tartamillo.wordpress.com/bugianen/\n",
      " \n",
      "a: © <a href=\"https://geoservices.ign.fr/cgu-licences\">IGN 2021</a> / © <a href=\"https://tartamillo.wordpress.com/bugianen/\">CC BY-NC-SA 3.0 Maki</a>\n",
      "\n",
      "4 d: Carte topographique de la zone alps4-Grenoble-Savoie-Susa-Lanzo-GParadiso, fusion de cartes IGN, Bugianen et SwissTopo:\n",
      "* IGN Top 25 et Top 100 (2021). https://www.geoportail.gouv.fr\n",
      "* Bugianen 2205 (2022) : Mappa escursionistica delle alpi piemontesi, valdostane e dintorni.\n",
      "Per la legenda e l'origine dei dati visita <a href=\"https://tartamillo.wordpress.com/bugianen/\n",
      "* SwissTopo mix-scale (2021): Switzerland SwissTopo national map. https://map.geo.admin.ch\n",
      "Unlike the website, this is a downscaled version when possible (1 zoom level up for each layer).\n",
      " \n",
      "a: © <a href=\"https://geoservices.ign.fr/cgu-licences\">IGN 2021</a> / © <a href=\"https://tartamillo.wordpress.com/bugianen/\">CC BY-NC-SA 3.0 Maki</a> / © <a href=\"https://shop.swisstopo.admin.ch/fr/geodonnees-gratuites\">SwissTopo OGD</a>\n",
      "\n",
      "5 d: Carte topographique de la zone alps5-Mont-Blanc-Chambery-Leman, fusion de cartes IGN, Bugianen et SwissTopo:\n",
      "* IGN Top 25 et Top 100 (2021). https://www.geoportail.gouv.fr\n",
      "* Bugianen 2205 (2022) : Mappa escursionistica delle alpi piemontesi, valdostane e dintorni.\n",
      "Per la legenda e l'origine dei dati visita <a href=\"https://tartamillo.wordpress.com/bugianen/\n",
      "* SwissTopo mix-scale (2021): Switzerland SwissTopo national map. https://map.geo.admin.ch\n",
      "Unlike the website, this is a downscaled version when possible (1 zoom level up for each layer).\n",
      " \n",
      "a: © <a href=\"https://geoservices.ign.fr/cgu-licences\">IGN 2021</a> / © <a href=\"https://tartamillo.wordpress.com/bugianen/\">CC BY-NC-SA 3.0 Maki</a> / © <a href=\"https://shop.swisstopo.admin.ch/fr/geodonnees-gratuites\">SwissTopo OGD</a>\n",
      "\n",
      "6 d: Carte topographique de la zone alps6-Aoste-Martigny-Monch-MtRosa, fusion de cartes IGN, Bugianen et SwissTopo:\n",
      "* IGN Top 25 et Top 100 (2021). https://www.geoportail.gouv.fr\n",
      "* Bugianen 2205 (2022) : Mappa escursionistica delle alpi piemontesi, valdostane e dintorni.\n",
      "Per la legenda e l'origine dei dati visita <a href=\"https://tartamillo.wordpress.com/bugianen/\n",
      "* SwissTopo mix-scale (2021): Switzerland SwissTopo national map. https://map.geo.admin.ch\n",
      "Unlike the website, this is a downscaled version when possible (1 zoom level up for each layer).\n",
      " \n",
      "a: © <a href=\"https://geoservices.ign.fr/cgu-licences\">IGN 2021</a> / © <a href=\"https://tartamillo.wordpress.com/bugianen/\">CC BY-NC-SA 3.0 Maki</a> / © <a href=\"https://shop.swisstopo.admin.ch/fr/geodonnees-gratuites\">SwissTopo OGD</a>\n",
      "\n",
      "7 d: Carte topographique de la zone alps7-Ticino-Finsteraarhorn-Lorenzhorn, fusion de cartes Bugianen et SwissTopo:\n",
      "* Bugianen 2205 (2022) : Mappa escursionistica delle alpi piemontesi, valdostane e dintorni.\n",
      "Per la legenda e l'origine dei dati visita <a href=\"https://tartamillo.wordpress.com/bugianen/\n",
      "* SwissTopo mix-scale (2021): Switzerland SwissTopo national map. https://map.geo.admin.ch\n",
      "Unlike the website, this is a downscaled version when possible (1 zoom level up for each layer).\n",
      " \n",
      "a: © <a href=\"https://tartamillo.wordpress.com/bugianen/\">CC BY-NC-SA 3.0 Maki</a> / © <a href=\"https://shop.swisstopo.admin.ch/fr/geodonnees-gratuites\">SwissTopo OGD</a>\n",
      "\n",
      "8 d: Carte topographique de la zone alps8-Como-Mesolcina-Adamello-Ortler, fusion de cartes SwissTopo et Kompass:\n",
      "* SwissTopo mix-scale (2021): Switzerland SwissTopo national map. https://map.geo.admin.ch\n",
      "Unlike the website, this is a downscaled version when possible (1 zoom level up for each layer).\n",
      "* Kompass (2021). https://www.kompass.de/wanderkarte/\n",
      " \n",
      "a: © <a href=\"https://shop.swisstopo.admin.ch/fr/geodonnees-gratuites\">SwissTopo OGD</a> / © <a href=\"https://www.kompass.de/b2b/lizenzen/\">Kompass.de</a>\n",
      "\n",
      "9 d: Carte topographique de la zone alps9-CHCW-Vaud-Luzern-Grimselpass: SwissTopo mix-scale (2021): Switzerland SwissTopo national map. https://map.geo.admin.ch\n",
      "Unlike the website, this is a downscaled version when possible (1 zoom level up for each layer). \n",
      "a: © <a href=\"https://shop.swisstopo.admin.ch/fr/geodonnees-gratuites\">SwissTopo OGD</a>\n",
      "\n",
      "10 d: Carte topographique de la zone alps10-CHCE-Realp-Pfunds, fusion de cartes SwissTopo et Kompass:\n",
      "* SwissTopo mix-scale (2021): Switzerland SwissTopo national map. https://map.geo.admin.ch\n",
      "Unlike the website, this is a downscaled version when possible (1 zoom level up for each layer).\n",
      "* Kompass (2021). https://www.kompass.de/wanderkarte/\n",
      " \n",
      "a: © <a href=\"https://shop.swisstopo.admin.ch/fr/geodonnees-gratuites\">SwissTopo OGD</a> / © <a href=\"https://www.kompass.de/b2b/lizenzen/\">Kompass.de</a>\n",
      "\n",
      "11 d: Carte topographique de la zone alps11-CHNE-Zurich-LH-Lechtal, fusion de cartes SwissTopo et Kompass:\n",
      "* SwissTopo mix-scale (2021): Switzerland SwissTopo national map. https://map.geo.admin.ch\n",
      "Unlike the website, this is a downscaled version when possible (1 zoom level up for each layer).\n",
      "* Kompass (2021). https://www.kompass.de/wanderkarte/\n",
      " \n",
      "a: © <a href=\"https://shop.swisstopo.admin.ch/fr/geodonnees-gratuites\">SwissTopo OGD</a> / © <a href=\"https://www.kompass.de/b2b/lizenzen/\">Kompass.de</a>\n",
      "\n",
      "12 d: Carte topographique de la zone alps12-Arco-Innsbruck-Bruneck-Marmolada: Kompass (2021). https://www.kompass.de/wanderkarte/ \n",
      "a: © <a href=\"https://www.kompass.de/b2b/lizenzen/\">Kompass.de</a>\n",
      "\n"
     ]
    }
   ],
   "source": [
    "for i, mbt in paths.items():\n",
    "    if not os.path.exists(mbt):\n",
    "        continue\n",
    "    desc = E.DESC[i]\n",
    "    attrib = E.ATTRIB[i]\n",
    "    M.update_mbt_meta(mbt, desc=desc, attrib=attrib)\n",
    "    print(i, 'd:', M.get_meta(mbt)['description'], '\\na:', M.get_meta(mbt).get('attribution'))\n",
    "    print()\n"
   ]
  },
  {
   "cell_type": "code",
   "execution_count": 4,
   "metadata": {},
   "outputs": [
    {
     "name": "stdout",
     "output_type": "stream",
     "text": [
      "8 d: Carte topographique de la zone alps8-Lombardia-Como-StMoritz-Adamello, fusion de cartes SwissTopo et Kompass:\n",
      "* SwissTopo mix-scale (2021): Switzerland SwissTopo national map. https://map.geo.admin.ch\n",
      "Unlike the website, this is a downscaled version when possible (1 zoom level up for each layer).\n",
      "* Kompass (2021). https://www.kompass.de/wanderkarte/\n",
      " \n",
      "a: © <a href=\"https://shop.swisstopo.admin.ch/fr/geodonnees-gratuites\">SwissTopo OGD</a> / © <a href=\"https://www.kompass.de/b2b/lizenzen/\">Kompass.de</a>\n",
      "\n"
     ]
    }
   ],
   "source": [
    "for i, mbt in abspaths.items():\n",
    "    if i != 8:\n",
    "        continue\n",
    "    if not os.path.exists(mbt):\n",
    "        print(mbt, '?')\n",
    "        continue\n",
    "    desc = E.DESC[i]\n",
    "    attrib = E.ATTRIB[i]\n",
    "    M.update_mbt_meta(mbt, desc=desc, attrib=attrib)\n",
    "    print(i, 'd:', M.get_meta(mbt)['description'], '\\na:', M.get_meta(mbt).get('attribution'))\n",
    "    print()\n"
   ]
  },
  {
   "cell_type": "markdown",
   "metadata": {},
   "source": [
    "# Finally, upload to GH"
   ]
  },
  {
   "cell_type": "code",
   "execution_count": 5,
   "metadata": {},
   "outputs": [
    {
     "name": "stdout",
     "output_type": "stream",
     "text": [
      "asset alps8-Lombardia-Como-StMoritz-Adamello.mbtiles not found in release 202301\n",
      "\u001b[KSuccessfully uploaded 1 asset to \u001b[0;1;39m202301\u001b[0m\n"
     ]
    },
    {
     "data": {
      "text/plain": [
       "0"
      ]
     },
     "execution_count": 5,
     "metadata": {},
     "output_type": "execute_result"
    }
   ],
   "source": [
    "N = 8\n",
    "p = abspaths[N]\n",
    "system('gh release delete-asset -y 202301 ' + paths[N])\n",
    "system('gh release upload 202301 ' + p)\n"
   ]
  },
  {
   "cell_type": "code",
   "execution_count": 10,
   "metadata": {},
   "outputs": [
    {
     "name": "stdout",
     "output_type": "stream",
     "text": [
      "\u001b[0;31m✓\u001b[0m Deleted asset alps6-Aoste-Martigny-Monch-MtRosa.mbtiles from release 202301\n",
      "\u001b[KSuccessfully uploaded 1 asset to \u001b[0;1;39m202301\u001b[0m\n",
      "\u001b[0;31m✓\u001b[0m Deleted asset alps7-Ticino-Finsteraarhorn-Lorenzhorn.mbtiles from release 202301\n",
      "\u001b[KSuccessfully uploaded 1 asset to \u001b[0;1;39m202301\u001b[0m\n",
      "asset alps8-Como-Mesolcina-Adamello-Ortler.mbtiles not found in release 202301\n",
      "\u001b[KSuccessfully uploaded 1 asset to \u001b[0;1;39m202301\u001b[0m\n",
      "asset alps9-CHCW-Vaud-Luzern-Grimselpass.mbtiles not found in release 202301\n",
      "\u001b[KSuccessfully uploaded 1 asset to \u001b[0;1;39m202301\u001b[0m\n",
      "asset alps10-CHCE-Realp-Pfunds.mbtiles not found in release 202301\n",
      "\u001b[KSuccessfully uploaded 1 asset to \u001b[0;1;39m202301\u001b[0m\n",
      "asset alps11-CHNE-Zurich-LH-Lechtal.mbtiles not found in release 202301\n",
      "stat ../../mapdata/mbtiles/alps11-CHNE-Zurich-LH-Lechtal.mbtiles: no such file or directory\n",
      "asset alps12-Arco-Innsbruck-Bruneck-Marmolada.mbtiles not found in release 202301\n",
      "\u001b[KSuccessfully uploaded 1 asset to \u001b[0;1;39m202301\u001b[0m\n",
      "asset alps13-Civetta--Unterwossen.mbtiles not found in release 202301\n",
      "stat ../../mapdata/mbtiles/alps13-Civetta--Unterwossen.mbtiles: no such file or directory\n"
     ]
    }
   ],
   "source": [
    "for i, p in abspaths.items():\n",
    "#    if i >= 6:\n",
    "        system('gh release delete-asset -y 202301 ' + paths[i])\n",
    "        system('gh release upload 202301 ' + p)\n",
    "        # check_run('gh release upload 202301 ' + p)"
   ]
  },
  {
   "cell_type": "code",
   "execution_count": 8,
   "metadata": {},
   "outputs": [
    {
     "name": "stdout",
     "output_type": "stream",
     "text": [
      "asset alps-z612.mbtiles not found in release 202301\n",
      "\u001b[KSuccessfully uploaded 1 asset to \u001b[0;1;39m202301\u001b[0m\n"
     ]
    },
    {
     "data": {
      "text/plain": [
       "0"
      ]
     },
     "execution_count": 8,
     "metadata": {},
     "output_type": "execute_result"
    }
   ],
   "source": [
    "system('gh release delete-asset -y 202301 ' + paths[-1])\n",
    "system('gh release upload 202301 ' + abspaths[-1])"
   ]
  },
  {
   "cell_type": "code",
   "execution_count": 7,
   "metadata": {},
   "outputs": [
    {
     "name": "stdout",
     "output_type": "stream",
     "text": [
      "real bounds  10 [6.33, 43.58, 8.09, 44.59] 530 650 534 653\n",
      "real bounds  11 [6.33, 43.58, 7.91, 44.59] 1060 1300 1068 1307\n",
      "real bounds  12 [6.33, 43.58, 8.09, 44.59] 2120 2600 2139 2615\n",
      "real bounds  13 [6.33, 43.58, 8.09, 44.59] 4240 5200 4279 5231\n",
      "real bounds  14 [6.33, 43.58, 8.09, 44.59] 8480 10400 8559 10463\n",
      "real bounds  15 [6.33, 43.58, 8.09, 44.59] 16960 20800 17119 20927\n",
      "real bounds  16 [6.33, 43.58, 8.09, 44.59] 33920 41600 34239 41855\n"
     ]
    },
    {
     "data": {
      "text/plain": [
       "(10,\n",
       " 16,\n",
       " LngLatBbox(west=6.328124999999996, south=43.580390855607845, east=8.085937500000016, north=44.590467181308846))"
      ]
     },
     "execution_count": 7,
     "metadata": {},
     "output_type": "execute_result"
    }
   ],
   "source": [
    "M.real_bounds(abspaths[1], log=print)"
   ]
  },
  {
   "cell_type": "code",
   "execution_count": 1,
   "metadata": {},
   "outputs": [
    {
     "ename": "NameError",
     "evalue": "name 'GY' is not defined",
     "output_type": "error",
     "traceback": [
      "\u001b[0;31m---------------------------------------------------------------------------\u001b[0m",
      "\u001b[0;31mNameError\u001b[0m                                 Traceback (most recent call last)",
      "Cell \u001b[0;32mIn [1], line 1\u001b[0m\n\u001b[0;32m----> 1\u001b[0m GY\u001b[39m.\u001b[39metopo2geojson(NBROOT\u001b[39m+\u001b[39m\u001b[39m'\u001b[39m\u001b[39m/../data/areas/etopo_alps_extents.geojson\u001b[39m\u001b[39m'\u001b[39m)\n\u001b[1;32m      2\u001b[0m GY\u001b[39m.\u001b[39mMultiPolygon(\u001b[39mmap\u001b[39m(GY\u001b[39m.\u001b[39mbb2poly, GY\u001b[39m.\u001b[39mbbalps\u001b[39m.\u001b[39mvalues()))\n",
      "\u001b[0;31mNameError\u001b[0m: name 'GY' is not defined"
     ]
    }
   ],
   "source": [
    "GY.etopo2geojson(NBROOT+'/../data/areas/etopo_alps_extents.geojson')\n",
    "GY.MultiPolygon(map(GY.bb2poly, GY.bbalps.values()))"
   ]
  },
  {
   "cell_type": "code",
   "execution_count": null,
   "metadata": {},
   "outputs": [],
   "source": []
  }
 ],
 "metadata": {
  "kernelspec": {
   "display_name": "Python 3",
   "language": "python",
   "name": "python3"
  },
  "language_info": {
   "codemirror_mode": {
    "name": "ipython",
    "version": 3
   },
   "file_extension": ".py",
   "mimetype": "text/x-python",
   "name": "python",
   "nbconvert_exporter": "python",
   "pygments_lexer": "ipython3",
   "version": "3.10.2"
  },
  "orig_nbformat": 4,
  "vscode": {
   "interpreter": {
    "hash": "4913ed92adf4fb24dff325cddf3820899273b13e1364fac2e6040e861e7b0f0a"
   }
  }
 },
 "nbformat": 4,
 "nbformat_minor": 2
}
