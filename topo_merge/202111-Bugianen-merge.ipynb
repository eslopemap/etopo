{
 "cells": [
  {
   "cell_type": "markdown",
   "metadata": {},
   "source": [
    "# Merge Bugianen and serve as pmtiles\n",
    "\n",
    "It's all in the title :)\n",
    "Pre-requisite: \n",
    "* Bugianen files downloaded in the working directory below (links in https://tartamillo.wordpress.com/bugianen/)\n",
    "* s3 object store setup done in aws-cli (for the very end)"
   ]
  },
  {
   "cell_type": "code",
   "execution_count": 1,
   "metadata": {},
   "outputs": [
    {
     "name": "stdout",
     "output_type": "stream",
     "text": [
      "/home/me/Downloads/dwnmaps/mapdata/mbtiles/Bugianen\n"
     ]
    }
   ],
   "source": [
    "%cd ~/Downloads/dwnmaps/mapdata/mbtiles/Bugianen"
   ]
  },
  {
   "cell_type": "code",
   "execution_count": 3,
   "metadata": {},
   "outputs": [],
   "source": [
    "import sys\n",
    "sys.path.append('../../eslope/development/src')\n",
    "from mbt_util import mbt_merge, mbt_info"
   ]
  },
  {
   "cell_type": "code",
   "execution_count": 97,
   "metadata": {},
   "outputs": [
    {
     "name": "stdout",
     "output_type": "stream",
     "text": [
      "cp Bugianen 2005 Cervino.mbtiles Bugianen.mbtiles\n",
      "<<>> Bugianen 2005 Cervino : zoom = 12 16 ; n = 8525 ; bounds = 7.295,45.706,7.734,46.012 ; format = jpg\n",
      "<< Bugianen 2005 Cuneese : zoom = 12 16 ; n = 22847 ; bounds = 6.768,44.088,7.646,44.590 ; format = jpg\n",
      ">> Bugianen : zoom = 12 16 ; n = 31372 ; bounds = 6.768,44.088,7.734,46.012 ; format = jpg\n",
      "<< Bugianen 2005 Germanasca : zoom = 12 16 ; n = 15004 ; bounds = 6.592,44.778,7.471,45.089 ; format = jpg\n",
      ">> Bugianen : zoom = 12 16 ; n = 46376 ; bounds = 6.592,44.088,7.734,46.012 ; format = jpg\n",
      "<< Bugianen 2005 Gran Paradiso : zoom = 12 16 ; n = 19411 ; bounds = 6.943,45.398,7.910,45.768 ; format = jpg\n",
      ">> Bugianen : zoom = 12 16 ; n = 64082 ; bounds = 6.592,44.088,7.910,46.012 ; format = jpg\n",
      "<< Bugianen 2005 Lanzo : zoom = 12 16 ; n = 9207 ; bounds = 7.031,45.213,7.646,45.460 ; format = jpg\n",
      ">> Bugianen : zoom = 12 16 ; n = 70902 ; bounds = 6.592,44.088,7.910,46.012 ; format = jpg\n",
      "<< Bugianen 2005 Monregalese : zoom = 12 16 ; n = 14322 ; bounds = 7.559,44.024,8.174,44.402 ; format = jpg\n",
      ">> Bugianen : zoom = 12 16 ; n = 83860 ; bounds = 6.592,44.024,8.174,46.012 ; format = jpg\n",
      "<< Bugianen 2005 Monte Bianco : zoom = 12 16 ; n = 13981 ; bounds = 6.680,45.583,7.383,45.951 ; format = jpg\n",
      ">> Bugianen : zoom = 12 16 ; n = 94431 ; bounds = 6.592,44.024,8.174,46.012 ; format = jpg\n",
      "<< Bugianen 2005 Monte Rosa : zoom = 12 16 ; n = 22165 ; bounds = 7.646,45.522,8.262,46.134 ; format = jpg\n",
      ">> Bugianen : zoom = 12 16 ; n = 113186 ; bounds = 6.592,44.024,8.262,46.134 ; format = jpg\n",
      "<< Bugianen 2005 Monviso : zoom = 12 16 ; n = 12617 ; bounds = 6.855,44.528,7.559,44.840 ; format = jpg\n",
      ">> Bugianen : zoom = 12 16 ; n = 121029 ; bounds = 6.592,44.024,8.262,46.134 ; format = jpg\n",
      "<< Bugianen 2005 Ossola : zoom = 12 16 ; n = 13299 ; bounds = 7.998,46.073,8.701,46.498 ; format = jpg\n",
      ">> Bugianen : zoom = 12 16 ; n = 133305 ; bounds = 6.592,44.024,8.701,46.498 ; format = jpg\n",
      "<< Bugianen 2005 Susa : zoom = 12 16 ; n = 13981 ; bounds = 6.592,45.027,7.559,45.275 ; format = jpg\n",
      ">> Bugianen : zoom = 12 16 ; n = 141830 ; bounds = 6.592,44.024,8.701,46.498 ; format = jpg\n",
      "<< Bugianen 2005 Verbano : zoom = 12 16 ; n = 15345 ; bounds = 8.174,45.645,8.789,46.134 ; format = jpg\n",
      ">> Bugianen : zoom = 12 16 ; n = 152742 ; bounds = 6.592,44.024,8.789,46.498 ; format = jpg\n",
      "Bugianen Merge of the following files:\n",
      "* Bugianen 2005 Cervino : Bugianen created on 2020-05-12 17:12:52 by MOBAC\n",
      "* Bugianen 2005 Cuneese : Bugianen created on 2020-05-12 17:16:15 by MOBAC\n",
      "* Bugianen 2005 Germanasca : Bugianen created on 2020-05-12 17:15:09 by MOBAC\n",
      "* Bugianen : Bugianen created on 2020-05-12 17:11:46 by MOBAC\n",
      "* Bugianen : Bugianen created on 2020-05-12 17:14:16 by MOBAC\n",
      "* Bugianen 2005 Monregalese : Bugianen created on 2020-05-12 17:16:36 by MOBAC\n",
      "* Bugianen 2005 Monte Bianco : Bugianen created on 2020-05-12 17:13:22 by MOBAC\n",
      "* Bugianen 2005 Monte Rosa : Bugianen created on 2020-05-12 17:12:25 by MOBAC\n",
      "* Bugianen 2005 Monviso : Bugianen created on 2020-05-12 17:15:45 by MOBAC\n",
      "* Bugianen : Bugianen created on 2020-05-12 17:17:14 by MOBAC\n",
      "* Bugianen 2005 Susa : Bugianen created on 2020-05-12 17:14:30 by MOBAC\n",
      "* Bugianen : Bugianen created on 2020-05-12 17:16:56 by MOBAC\n",
      "\n"
     ]
    }
   ],
   "source": [
    "mbt_merge('Bugianen 2005 Cervino.mbtiles',\n",
    "          'Bugianen 2005 Cuneese.mbtiles',\n",
    "          'Bugianen 2005 Germanasca.mbtiles',\n",
    "          'Bugianen 2005 Gran Paradiso.mbtiles',\n",
    "          'Bugianen 2005 Lanzo.mbtiles',\n",
    "          'Bugianen 2005 Monregalese.mbtiles',\n",
    "          'Bugianen 2005 Monte Bianco.mbtiles',\n",
    "          'Bugianen 2005 Monte Rosa.mbtiles',\n",
    "          'Bugianen 2005 Monviso.mbtiles',\n",
    "          'Bugianen 2005 Ossola.mbtiles',\n",
    "          'Bugianen 2005 Susa.mbtiles',\n",
    "          'Bugianen 2005 Verbano.mbtiles',\n",
    "          dest='Bugianen.mbtiles',\n",
    "          description='https://tartamillo.wordpress.com/bugianen/')"
   ]
  },
  {
   "cell_type": "code",
   "execution_count": 2,
   "metadata": {},
   "outputs": [],
   "source": [
    "# Don't keep duplicate indexes\n",
    "import sqlite3\n",
    "db = sqlite3.connect('Bugianen.mbtiles')\n",
    "try:\n",
    "    db.cursor().execute('DROP INDEX IF EXISTS tiles_id')\n",
    "finally:\n",
    "    db.commit()\n",
    "    db.close()\n"
   ]
  },
  {
   "cell_type": "code",
   "execution_count": 70,
   "metadata": {},
   "outputs": [
    {
     "data": {
      "text/plain": [
       "'zoom = 12 16 ; n = 46376 ; bounds = 6.768,44.088,7.646,44.590 ; format = jpg'"
      ]
     },
     "execution_count": 70,
     "metadata": {},
     "output_type": "execute_result"
    }
   ],
   "source": [
    "mbt_info('Bugianen.mbtiles')"
   ]
  },
  {
   "cell_type": "code",
   "execution_count": 81,
   "metadata": {},
   "outputs": [],
   "source": [
    "!command -v pmtiles-convert &> /dev/null || pip install pmtiles"
   ]
  },
  {
   "cell_type": "code",
   "execution_count": 98,
   "metadata": {},
   "outputs": [
    {
     "name": "stdout",
     "output_type": "stream",
     "text": [
      "Num tiles: 152742\n",
      "Num unique tiles: 151947\n",
      "Num leaves: 3\n"
     ]
    }
   ],
   "source": [
    "!pmtiles-convert Bugianen.{mb,pm}tiles"
   ]
  },
  {
   "cell_type": "code",
   "execution_count": 82,
   "metadata": {},
   "outputs": [],
   "source": [
    "# configure your s3\n",
    "# pip install awscli-plugin-endpoint\n",
    "# aws configure set plugins.endpoint awscli_plugin_endpoint\n",
    "# aws configure"
   ]
  },
  {
   "cell_type": "code",
   "execution_count": 100,
   "metadata": {},
   "outputs": [
    {
     "name": "stdout",
     "output_type": "stream",
     "text": [
      "upload: ./Bugianen.mbtiles to s3://maki/Bugianen.mbtiles          \n"
     ]
    }
   ],
   "source": [
    "!aws s3 cp --acl public-read ./Bugianen.mbtiles s3://maki/"
   ]
  },
  {
   "cell_type": "code",
   "execution_count": 1,
   "metadata": {},
   "outputs": [
    {
     "name": "stdout",
     "output_type": "stream",
     "text": [
      "\n",
      "The user-provided path ./Bugianen.pmtiles does not exist.\n"
     ]
    }
   ],
   "source": [
    "!aws s3 cp --acl public-read ./Bugianen.pmtiles s3://maki/"
   ]
  },
  {
   "cell_type": "code",
   "execution_count": 3,
   "metadata": {},
   "outputs": [],
   "source": [
    "!aws s3api put-bucket-cors --bucket maki --cors-configuration \\\n",
    "    '{\"CORSRules\": [{\"AllowedOrigins\": [\"*\"], \"AllowedHeaders\": [\"*\"], \"AllowedMethods\": [\"GET\", \"HEAD\"], \"MaxAgeSeconds\": 3000, \"ExposeHeaders\": [\"Etag\"]}]}'"
   ]
  },
  {
   "cell_type": "code",
   "execution_count": null,
   "metadata": {},
   "outputs": [],
   "source": []
  }
 ],
 "metadata": {
  "interpreter": {
   "hash": "8a94588eda9d64d9e9a351ab8144e55b1fabf5113b54e67dd26a8c27df0381b3"
  },
  "kernelspec": {
   "display_name": "Python 3.10.0 64-bit",
   "language": "python",
   "name": "python3"
  },
  "language_info": {
   "codemirror_mode": {
    "name": "ipython",
    "version": 3
   },
   "file_extension": ".py",
   "mimetype": "text/x-python",
   "name": "python",
   "nbconvert_exporter": "python",
   "pygments_lexer": "ipython3",
   "version": "3.9.1"
  },
  "orig_nbformat": 4
 },
 "nbformat": 4,
 "nbformat_minor": 2
}
