{
 "cells": [
  {
   "cell_type": "code",
   "execution_count": 1,
   "id": "deae76cd",
   "metadata": {},
   "outputs": [],
   "source": [
    "%load_ext autoreload\n",
    "%autoreload 2"
   ]
  },
  {
   "cell_type": "code",
   "execution_count": 2,
   "id": "7a95b588",
   "metadata": {},
   "outputs": [],
   "source": [
    "import os\n",
    "from os.path import exists, join as pjoin, realpath\n",
    "NBROOT = realpath(os.curdir)\n",
    "\n",
    "import logging\n",
    "logging.basicConfig(level=logging.DEBUG)\n",
    "logging.getLogger('PIL').level = logging.INFO # PIL.PngImagePlugin\n",
    "\n",
    "import sys\n",
    "sys.path.append(realpath('..'))\n",
    "sys.path.append(realpath('../../eslope/development/src'))\n",
    "\n",
    "from glob import glob\n",
    "import json\n",
    "from pathlib import Path\n",
    "from time import time\n",
    "from urllib.error import HTTPError\n",
    "from urllib.request import urlopen, urlretrieve\n",
    "from subprocess import check_call, CalledProcessError\n",
    "\n",
    "try:\n",
    "    # like os.system but with live output\n",
    "    from IPython.utils.process import system\n",
    "    def check_run(cmd):  # type:ignore\n",
    "        r = system(cmd)\n",
    "        if r: raise CalledProcessError(r, cmd)\n",
    "        return r\n",
    "except ImportError:\n",
    "    def check_run(cmd):\n",
    "        return check_call(cmd, shell=True)\n",
    "\n",
    "#external\n",
    "#!pip install shapely\n",
    "import shapely\n",
    "from shapely.geometry import mapping, shape, GeometryCollection, Polygon, Point\n",
    "from shapely.ops import cascaded_union\n",
    "import numpy as np\n",
    "from IPython.display import display, Image\n",
    "from PIL import Image as Img\n",
    "import mercantile as T\n",
    "from osgeo import gdal\n",
    "gdal.UseExceptions()\n",
    "\n",
    "# own\n",
    "import mbt_util as M\n",
    "import bbox\n",
    "from mbt_util import mbt_merge, mbt_info\n",
    "from src import img_util as G, geometry as GY, \\\n",
    "    mbt_download as MD, mbt_partial as MP, mbt_pyramid as MY, swisstopo as SS\n",
    "from src.jpg_quality_pil_magick import get_jpg_quality\n"
   ]
  },
  {
   "cell_type": "code",
   "execution_count": 3,
   "metadata": {},
   "outputs": [
    {
     "name": "stdout",
     "output_type": "stream",
     "text": [
      "/home/eoubrayrie/Downloads/dwnmaps/mapdata/mbtiles\n"
     ]
    }
   ],
   "source": [
    "%cd /opt/map/mapdata/mbtiles"
   ]
  },
  {
   "cell_type": "code",
   "execution_count": 4,
   "metadata": {},
   "outputs": [],
   "source": [
    "names = GY.bbalp_names\n",
    "paths = {i: name + '.mbtiles' for i, name in names.items()}\n"
   ]
  },
  {
   "cell_type": "code",
   "execution_count": 5,
   "metadata": {},
   "outputs": [
    {
     "data": {
      "text/plain": [
       "'zoom = 9 16 ; n = 280691 * 28 kb/tile q = 95 ; bounds = 4.21875,44.59047,13.35938,48.45835 ; center = 8.78906,46.52441,9 ; format = jpeg ; name = SwissTopo mix-scale'"
      ]
     },
     "execution_count": 5,
     "metadata": {},
     "output_type": "execute_result"
    }
   ],
   "source": [
    "M.mbt_info('mch.mbtiles')"
   ]
  },
  {
   "cell_type": "code",
   "execution_count": 5,
   "id": "69c79eaf",
   "metadata": {},
   "outputs": [
    {
     "data": {
      "text/plain": [
       "{'name': 'SwissTopo mix-scale',\n",
       " 'description': 'Switzerland SwissTopo National Map, zoom 9-16. https://map.geo.admin.ch\\nUnlike the website, this is a downscaled version when possible (1 zoom level up for each layer).',\n",
       " 'bounds': '4.21875,44.59047,13.35938,48.45835',\n",
       " 'format': 'jpeg',\n",
       " 'type': 'baselayer',\n",
       " 'center': '8.78906,46.52441,9',\n",
       " 'minzoom': '9',\n",
       " 'maxzoom': '12'}"
      ]
     },
     "execution_count": 5,
     "metadata": {},
     "output_type": "execute_result"
    }
   ],
   "source": [
    "M.get_meta('mch.mbtiles')"
   ]
  },
  {
   "attachments": {},
   "cell_type": "markdown",
   "metadata": {},
   "source": [
    "## Z12\n",
    "\n",
    "Make the low-zoom (6-8 + 9-12) file (111 MB)"
   ]
  },
  {
   "cell_type": "code",
   "execution_count": 9,
   "id": "46b2fce4",
   "metadata": {},
   "outputs": [
    {
     "name": "stdout",
     "output_type": "stream",
     "text": [
      "Overwriting  mch-z9-12.mbtiles\n",
      "z 9 : 104\n",
      "z 10 : 416\n",
      "z 11 : 264\n",
      "z 12 : 2591\n"
     ]
    }
   ],
   "source": [
    "mbtch12 = M.cut_zoom('mch.mbtiles', zooms=[9, 10, 11, 12], overwrite=True)"
   ]
  },
  {
   "cell_type": "code",
   "execution_count": 14,
   "metadata": {},
   "outputs": [
    {
     "name": "stdout",
     "output_type": "stream",
     "text": [
      "cp mch-z9-12.mbtiles alps12.mbtiles\n",
      "<<>> mch-z9-12 : zoom = 9 12 ; n = 3375 * 34 kb/tile ; bounds = 4.21875,44.59047,13.35938,48.45835 ; center = 8.78906,46.52441,9 ; format = jpeg ; name = SwissTopo mix-scale\n",
      "<< ../mobac_atlases/OpenTopoMaps-z68 : zoom = 5 8 ; n = 63 * 44 kb/tile ; bounds = 0.000,40.996,22.456,48.922 ; format = png ; name = Unnamed atlas\n",
      ">> alps12 : zoom = 5 12 ; n = 3438 ; bounds = 4.21875,44.59047,13.35938,48.45835 ; center = 8.78906,46.52441,9 ; format = jpeg ; name = SwissTopo mix-scale\n",
      "Meta update {'bounds': '0.0,40.9799,22.5,48.9225',\n",
      " 'center': '11.25000,44.95120,5',\n",
      " 'maxzoom': 12,\n",
      " 'minzoom': 5,\n",
      " 'type': 'baselayer'}\n",
      "Created: alps12\n"
     ]
    }
   ],
   "source": [
    "M.mbt_merge(mbtch12, '../mobac_atlases/OpenTopoMaps-z68.mbtiles', dest='alps12.mbtiles')"
   ]
  },
  {
   "cell_type": "code",
   "execution_count": 22,
   "metadata": {},
   "outputs": [
    {
     "data": {
      "text/plain": [
       "'zoom = 5 16 ; n = 3439 * 35 kb/tile ; bounds = 0.0,40.9799,22.5,48.9225 ; center = 11.25000,44.95120,5 ; format = jpeg ; name = alps12'"
      ]
     },
     "execution_count": 22,
     "metadata": {},
     "output_type": "execute_result"
    }
   ],
   "source": [
    "wjpg = G.white_jpg(256)\n",
    "z, x, y = M.lnglat2tms(16, lng=9, lat=46)\n",
    "M.insert_tiles('alps12.mbtiles', [(z, x, y, wjpg)])\n",
    "M.set_real_bounds('alps12.mbtiles')\n",
    "M.mbt_info('alps12.mbtiles')"
   ]
  },
  {
   "attachments": {},
   "cell_type": "markdown",
   "metadata": {},
   "source": [
    "## Z16"
   ]
  },
  {
   "cell_type": "code",
   "execution_count": 42,
   "metadata": {},
   "outputs": [
    {
     "name": "stdout",
     "output_type": "stream",
     "text": [
      "mch8\n",
      "(6.33, 46.56, 8.44, 47.04)\n",
      "(6.33, 46.56, 8.44, 47.04)\n",
      "(6.33, 46.56, 8.44, 47.04)\n",
      "(6.56, 46.56, 8.44, 47.0)\n",
      "mch9\n",
      "(8.44, 46.56, 10.55, 47.04)\n",
      "(8.44, 46.56, 10.55, 47.04)\n",
      "(8.44, 46.56, 10.55, 47.04)\n",
      "(8.44, 46.56, 10.46, 46.95)\n",
      "mch.\n",
      "(4.22, 44.59, 13.36, 48.46)\n",
      "(5.98, 45.8, 10.55, 47.04)\n",
      "(5.98, 46.25, 10.2, 47.04)\n",
      "(9.07, 46.54, 9.07, 46.56)\n",
      "mch5\n",
      "(5.63, 45.58, 7.73, 46.56)\n",
      "(5.98, 45.81, 7.73, 46.56)\n",
      "(5.98, 45.93, 7.73, 46.56)\n",
      "(7.12, 46.13, 6.79, 46.56)\n",
      "mch7\n",
      "(9.14, 45.58, 10.55, 46.56)\n",
      "(9.14, 45.81, 10.55, 46.56)\n",
      "(9.14, 46.34, 9.28, 46.56)\n",
      "(9.14, 46.54, 9.27, 46.56)\n",
      "mch6\n",
      "(7.73, 45.58, 9.14, 46.56)\n",
      "(7.73, 45.8, 9.14, 46.56)\n",
      "(7.73, 46.14, 9.14, 46.56)\n",
      "(9.07, 45.93, 9.07, 46.56)\n"
     ]
    }
   ],
   "source": [
    "for path in glob(f'mch*.mbtiles'):\n",
    "    print(path[:4],\n",
    "    tuple(round(n, 2) for n in M.real_bounds(path)[2]),  #bb max (union) of zmax\n",
    "    tuple(round(n, 2) for n in M.real_bounds(path, strict=True)[2]), # bb min (intersection) of zmax\n",
    "    tuple(round(n, 2) for n in M.compute_inner_bounds(path)),  # min of zcenter\n",
    "    tuple(round(n, 2) for n in M.compute_strictest_bounds(path)),  # min of zborders\n",
    "    #  mbt_info(path),\n",
    "     sep='\\n')"
   ]
  },
  {
   "cell_type": "code",
   "execution_count": 9,
   "metadata": {},
   "outputs": [
    {
     "name": "stdout",
     "output_type": "stream",
     "text": [
      "zoom = 9 16 ; n = 64787 * 22 kb/tile ; bounds = 5.625,45.58329,7.03125,46.55886 ; center = 6.32813,46.07108,9 ; format = jpg ; name = frit5-Mont-Blanc-Leman-Cervino-Cogne frit\n",
      "zoom = 9 16 ; n = 109296 * 25 kb/tile ; bounds = 5.625,45.58329,7.73438,46.55886 ; center = 6.67969,46.07108,9 ; format = jpg ; name = alps5-Mont-Blanc-Leman-Cervino-Cogne alps\n",
      "zoom = 9 16 ; n = 68648 * 37 kb/tile ; bounds = 4.92188,44.58656,7.73438,45.08904 ; center = 6.32813,44.83780,9 ; format = jpg ; name = alps3-Vercors-Ecrins-Queyras-Cozie alps\n",
      "zoom = 12 16 ; n = 152742 * 23 kb/tile ; bounds = 6.67969,45.58329,7.73438,46.01222 ; center = 7.20703,45.79776,12 ; format = jpg ; name = Bugianen Bugi\n",
      "zoom = 9 16 ; n = 64814 * 45 kb/tile ; bounds = 5.625,45.08904,8.4375,45.58329 ; center = 7.03125,45.33616,9 ; format = jpg ; name = alps4-Grenoble-Savoie-Susa-Lanzo-GParadiso alps\n",
      "zoom = 12 16 ; n = 61535 * 23 kb/tile ; bounds = 6.76758,44.02442,8.17383,44.59047 ; center = 7.47070,44.30744,12 ; format = jpg ; name = Bugianen C.Alps Bugi\n",
      "zoom = 9 16 ; n = 92072 * 30 kb/tile ; bounds = 6.32812,43.58039,8.4375,44.59047 ; center = 7.38281,44.08543,9 ; format = jpg ; name = alps1-Mercantour-Ubaye-Cuneese alps\n",
      "zoom = 9 16 ; n = 280691 * 28 kb/tile ; bounds = 6.32812,46.55886,10.54688,47.04018 ; center = 8.43750,46.79952,9 ; format = jpeg ; name = SwissTopo mix-scale mch.\n",
      "zoom = 9 16 ; n = 61937 * 28 kb/tile ; bounds = 4.21875,44.37000,13.35938,48.45835 ; format = jpeg ; name = SwissTopo mix-scale mch5\n",
      "zoom = 9 16 ; n = 28259 * 31 kb/tile ; bounds = 7.73437,45.58329,9.14063,46.55886 ; center = 8.43750,46.07108,9 ; format = jpeg ; name = SwissTopo mix-scale mch7\n",
      "zoom = 9 16 ; n = 55846 * 30 kb/tile ; bounds = 5.625,45.58329,7.73438,46.55886 ; center = 6.67969,46.07108,9 ; format = jpeg ; name = SwissTopo mix-scale mch6\n"
     ]
    }
   ],
   "source": [
    "from glob import glob\n",
    "\n",
    "for path in glob(f'*.mbtiles'):\n",
    "    print(mbt_info(path), path[:4])"
   ]
  },
  {
   "cell_type": "code",
   "execution_count": 15,
   "metadata": {},
   "outputs": [
    {
     "name": "stdout",
     "output_type": "stream",
     "text": [
      "5\n",
      "6\n",
      "7\n",
      "8\n",
      "9\n",
      "10\n"
     ]
    }
   ],
   "source": [
    "for N in (5,6,7,8,9, 10):\n",
    "    print(N)\n",
    "    name, chcpath = names[N], paths[N]\n",
    "    if not os.path.exists(chcpath):\n",
    "        continue\n",
    "        M.cut_to_lnglat('mch.mbtiles', chcpath, GY.bbalps[N])\n",
    "    M.update_mbt_meta(chcpath, name=name)\n",
    "    M.set_real_bounds(chcpath)"
   ]
  },
  {
   "cell_type": "code",
   "execution_count": 21,
   "metadata": {},
   "outputs": [
    {
     "data": {
      "text/plain": [
       "{'name': 'alps9-CHCW-Vaud-Luzern-Grimselpass',\n",
       " 'description': 'Switzerland SwissTopo National Map, zoom 9-16. https://map.geo.admin.ch\\nUnlike the website, this is a downscaled version when possible (1 zoom level up for each layer).',\n",
       " 'bounds': '6.32812,46.55886,8.4375,47.04018',\n",
       " 'format': 'jpeg',\n",
       " 'type': 'baselayer',\n",
       " 'center': '7.38281,46.79952,10',\n",
       " 'minzoom': '10',\n",
       " 'maxzoom': '16'}"
      ]
     },
     "execution_count": 21,
     "metadata": {},
     "output_type": "execute_result"
    }
   ],
   "source": [
    "M.get_meta(paths[9])"
   ]
  },
  {
   "cell_type": "code",
   "execution_count": 20,
   "metadata": {},
   "outputs": [
    {
     "name": "stdout",
     "output_type": "stream",
     "text": [
      "cp alps9-CHCW-Vaud-Luzern-Grimselpassz9.mbtiles alps9-CHCW-Vaud-Luzern-Grimselpass.mbtiles\n",
      "<<>> alps9-CHCW-Vaud-Luzern-Grimselpassz9 : zoom = 9 16 ; n = 65035 * 24 kb/tile q = 88 ; bounds = 6.32812,46.55886,8.4375,47.04018 ; center = 7.38281,46.79952,9 ; format = jpeg ; name = alps9-CHCW-Vaud-Luzern-Grimselpass\n",
      "z 9 : removed 3\n",
      "Meta update {'bounds': '6.32812,46.55886,8.4375,47.04018',\n",
      " 'center': '7.38281,46.79952,10',\n",
      " 'maxzoom': 16,\n",
      " 'minzoom': 10,\n",
      " 'type': 'baselayer'}\n"
     ]
    }
   ],
   "source": [
    "M.remove_lnglat(f'{paths[9][:-8]}z9.mbtiles', paths[9], zmin=9, zmax=9)"
   ]
  },
  {
   "cell_type": "code",
   "execution_count": 47,
   "metadata": {},
   "outputs": [
    {
     "name": "stdout",
     "output_type": "stream",
     "text": [
      "zoom = 9 16 ; n = 65536 * 19 kb/tile q = 75 ; bounds = 4.922,43.580,6.328,44.590 ; format = jpg ; name = IGNt2-Digne-Aups-Eguilles-Gap\n",
      "Backing up source as: alps2-Digne-Aups-Eguilles-Gap.mbtiles\n",
      "cp alps2-Digne-Aups-Eguilles-Gap.bak.mbtiles alps2-Digne-Aups-Eguilles-Gap.mbtiles\n",
      "<<>> alps2-Digne-Aups-Eguilles-Gap.bak : zoom = 9 16 ; n = 65536 * 19 kb/tile q = 75 ; bounds = 4.922,43.580,6.328,44.590 ; format = jpg ; name = IGNt2-Digne-Aups-Eguilles-Gap\n",
      "z 9 : removed 4\n",
      "Meta update {'bounds': '5.27344,43.58039,6.32813,44.59047',\n",
      " 'center': '5.80078,44.08543,10',\n",
      " 'maxzoom': 16,\n",
      " 'minzoom': 10,\n",
      " 'type': 'baselayer'}\n"
     ]
    }
   ],
   "source": [
    "print(M.mbt_info(paths[2]))\n",
    "M.remove_lnglat(f'{paths[2]}', zmin=9, zmax=9)"
   ]
  },
  {
   "cell_type": "code",
   "execution_count": 16,
   "metadata": {},
   "outputs": [
    {
     "name": "stdout",
     "output_type": "stream",
     "text": [
      "Backing up source as: alps1-Mercantour-Ubaye-Cuneese.mbtiles\n",
      "10 16 16\n",
      "z 10: +20 tiles: 530<x<534 650<y<653\n",
      "z 11: +71 tiles: 1060<x<1068 1300<y<1307\n",
      "z 12: +292 tiles: 2120<x<2139 2600<y<2615\n",
      "z 13: +1070 tiles: 4240<x<4279 5200<y<5231\n",
      "z 14: +4268 tiles: 8480<x<8559 10400<y<10463\n",
      "z 15: +16982 tiles: 16960<x<17119 20800<y<20927\n",
      "z 16: +67313 tiles: 33920<x<34239 41600<y<41855\n",
      "Meta update {'bounds': '6.32812,43.58039,8.08594,44.59047',\n",
      " 'center': '7.20703,44.08543,10',\n",
      " 'maxzoom': 16,\n",
      " 'minzoom': 10,\n",
      " 'type': 'baselayer'}\n"
     ]
    }
   ],
   "source": [
    "M.cut_to_lnglat(paths[1], bb=GY.bbalps1z10)"
   ]
  },
  {
   "cell_type": "code",
   "execution_count": 14,
   "metadata": {},
   "outputs": [
    {
     "name": "stdout",
     "output_type": "stream",
     "text": [
      "real bounds  10 [6.33, 43.58, 8.44, 44.59] 530 650 535 653\n",
      "real bounds  11 [6.33, 43.58, 7.91, 44.59] 1060 1300 1068 1307\n",
      "real bounds  12 [6.33, 43.58, 8.17, 44.59] 2120 2600 2140 2615\n",
      "real bounds  13 [6.33, 43.58, 8.17, 44.59] 4240 5200 4281 5231\n",
      "real bounds  14 [6.33, 43.58, 8.17, 44.59] 8480 10400 8563 10463\n",
      "real bounds  15 [6.33, 43.58, 8.17, 44.59] 16960 20800 17127 20927\n",
      "real bounds  16 [6.33, 43.58, 8.17, 44.59] 33920 41600 34255 41855\n"
     ]
    },
    {
     "data": {
      "text/plain": [
       "(10,\n",
       " 16,\n",
       " LngLatBbox(west=6.328124999999996, south=43.580390855607845, east=8.437500000000014, north=44.590467181308846))"
      ]
     },
     "execution_count": 14,
     "metadata": {},
     "output_type": "execute_result"
    }
   ],
   "source": [
    "M.real_bounds(paths[1], log=print)"
   ]
  },
  {
   "attachments": {},
   "cell_type": "markdown",
   "metadata": {},
   "source": [
    "# Kompass"
   ]
  },
  {
   "cell_type": "code",
   "execution_count": 19,
   "metadata": {},
   "outputs": [
    {
     "name": "stdout",
     "output_type": "stream",
     "text": [
      "real bounds  8 [8.44, 45.09, 12.66, 47.99] 134 164 136 166\n",
      "real bounds  9 [9.14, 45.58, 12.66, 47.99] 269 329 273 333\n",
      "real bounds  10 [9.14, 45.83, 12.66, 47.75] 538 659 547 666\n",
      "real bounds  11 [9.14, 45.83, 12.48, 47.75] 1076 1318 1094 1333\n",
      "real bounds  12 [9.14, 45.83, 12.48, 47.75] 2152 2636 2189 2667\n",
      "real bounds  13 [9.14, 45.83, 12.48, 47.75] 4304 5272 4379 5335\n",
      "real bounds  14 [9.14, 45.83, 12.48, 47.75] 8608 10544 8759 10671\n",
      "real bounds  15 [9.14, 45.83, 12.48, 47.75] 17216 21088 17519 21343\n"
     ]
    },
    {
     "data": {
      "text/plain": [
       "(8,\n",
       " 15,\n",
       " LngLatBbox(west=8.437500000000005, south=45.08903556483102, east=12.656250000000009, north=47.98992166741418))"
      ]
     },
     "execution_count": 19,
     "metadata": {},
     "output_type": "execute_result"
    }
   ],
   "source": [
    "M.real_bounds('../mobac_atlases/Kompass_dolo.mbtiles', log=print)"
   ]
  },
  {
   "cell_type": "markdown",
   "metadata": {},
   "source": []
  },
  {
   "cell_type": "code",
   "execution_count": 27,
   "metadata": {},
   "outputs": [
    {
     "name": "stdout",
     "output_type": "stream",
     "text": [
      "LngLatBbox(west=Decimal('8.438'), south=Decimal('45.093'), east=Decimal('12.655'), north=Decimal('47.990')) LngLat(lng=10.5465, lat=46.5415) 8 135 8\n"
     ]
    },
    {
     "data": {
      "text/plain": [
       "LngLatBbox(west=10.37109, south=45.8288, east=12.48047, north=47.5172)"
      ]
     },
     "execution_count": 27,
     "metadata": {},
     "output_type": "execute_result"
    }
   ],
   "source": [
    "M.compute_inner_bounds('../mobac_atlases/Kompass_dolo.mbtiles')"
   ]
  },
  {
   "cell_type": "code",
   "execution_count": 34,
   "metadata": {},
   "outputs": [
    {
     "data": {
      "text/plain": [
       "LngLatBbox(west=11.95313, south=46.43029, east=11.95312, north=46.67959)"
      ]
     },
     "execution_count": 34,
     "metadata": {},
     "output_type": "execute_result"
    }
   ],
   "source": [
    "M.compute_strictest_bounds('../mobac_atlases/Kompass_dolo.mbtiles')"
   ]
  },
  {
   "cell_type": "code",
   "execution_count": 31,
   "metadata": {},
   "outputs": [
    {
     "data": {
      "text/plain": [
       "46.316045"
      ]
     },
     "execution_count": 31,
     "metadata": {},
     "output_type": "execute_result"
    }
   ],
   "source": []
  },
  {
   "cell_type": "code",
   "execution_count": 13,
   "metadata": {},
   "outputs": [
    {
     "data": {
      "text/plain": [
       "'= 71118 * 32 kb/tile ; b'"
      ]
     },
     "execution_count": 13,
     "metadata": {},
     "output_type": "execute_result"
    }
   ],
   "source": []
  },
  {
   "cell_type": "code",
   "execution_count": 24,
   "metadata": {},
   "outputs": [
    {
     "name": "stdout",
     "output_type": "stream",
     "text": [
      "= 71118 * 32 kb/tile q = 89  Kompass_dolo\n",
      "= 3375 * 34 kb/tile q = 88 ; mch-z9-12\n",
      "= 64265 * 29 kb/tile q = 88  mch9\n",
      "= 280691 * 28 kb/tile q = 95 mch\n",
      "= 61937 * 28 kb/tile q = 95  mch5\n",
      "= 28259 * 31 kb/tile q = 88  mch7\n",
      "= 55846 * 30 kb/tile q = 95  mch6\n",
      " = 152742 * 23 kb/tile q = 8 Bugianen\n",
      " = 61535 * 23 kb/tile q = 80 Bugianen-calps\n",
      "= 4949 * 18 kb/tile q = 75 ; IGNt11-alps\n",
      "= 68832 * 19 kb/tile q = 75  IGNt1-Mercantour-Ubaye-Antibes-Embrun\n",
      "= 49153 * 20 kb/tile q = 75  IGNt4-Chartreuse-Vanoise Chambery-Bardon\n",
      "= 62043 * 18 kb/tile q = 75  IGNt5-MontBlanc-Chambery-Evian\n",
      "= 55476 * 20 kb/tile q = 75  IGNt3-Vercors-Ecrins-Cerces\n",
      "= 65536 * 19 kb/tile q = 75  IGNt2-Digne-Aups-Eguilles-Gap\n",
      "= 15393 * 20 kb/tile q = 75  IGNt111-addendum\n",
      "= 109296 * 25 kb/tile q = 75 alps5-Mont-Blanc-Leman-Cervino-Cogne\n",
      "= 65035 * 24 kb/tile q = 88  alps8\n",
      "= 68648 * 37 kb/tile q = 95  alps3-Vercors-Ecrins-Queyras-Cozie\n",
      "= 64814 * 45 kb/tile q = 99  alps4-Grenoble-Savoie-Susa-Lanzo-GParadiso\n",
      "= 3439 * 35 kb/tile q = 1 ;  alps12\n",
      "= 92072 * 30 kb/tile q = 95  alps1-Mercantour-Ubaye-Cuneese\n"
     ]
    }
   ],
   "source": [
    "for path in (\n",
    "    '../mobac_atlases/Kompass_dolo.mbtiles',\n",
    "    *glob(f'mch*.mbtiles'),\n",
    "    *glob(f'Bugianen*.mbtiles'),\n",
    "    *glob('../mobac_atlases/IGNt*.mbtiles'),\n",
    "    *glob(f'alps*.mbtiles'),\n",
    "):\n",
    "    print(M.mbt_info(path)[16:44], os.path.basename(path)[:-8] )"
   ]
  },
  {
   "cell_type": "code",
   "execution_count": null,
   "metadata": {},
   "outputs": [],
   "source": []
  },
  {
   "cell_type": "code",
   "execution_count": 3,
   "metadata": {},
   "outputs": [
    {
     "name": "stdout",
     "output_type": "stream",
     "text": [
      "/home/eoubrayrie/mapproj/etopo/topo_merge\n"
     ]
    }
   ],
   "source": [
    "%cd $NBROOT"
   ]
  },
  {
   "cell_type": "code",
   "execution_count": 6,
   "metadata": {},
   "outputs": [
    {
     "name": "stdout",
     "output_type": "stream",
     "text": [
      "\u001b[KSuccessfully uploaded 1 asset to \u001b[0;1;39m202301\u001b[0m\n"
     ]
    }
   ],
   "source": [
    "!gh release upload 202301 ../../mapdata/mbtiles/alps8.mbtiles"
   ]
  },
  {
   "attachments": {},
   "cell_type": "markdown",
   "metadata": {},
   "source": [
    "# Merge with bugianen"
   ]
  },
  {
   "attachments": {},
   "cell_type": "markdown",
   "metadata": {},
   "source": [
    "** need to rename/re-meta all swiss files first to avoid mixups\n",
    "b = \n",
    "M.cut_to_lnglat('Buginanen.mbtile', dest5, GY.bbalps5z10, zmin=10)\n"
   ]
  }
 ],
 "metadata": {
  "kernelspec": {
   "display_name": "Python 3",
   "language": "python",
   "name": "python3"
  },
  "language_info": {
   "codemirror_mode": {
    "name": "ipython",
    "version": 3
   },
   "file_extension": ".py",
   "mimetype": "text/x-python",
   "name": "python",
   "nbconvert_exporter": "python",
   "pygments_lexer": "ipython3",
   "version": "3.10.2"
  },
  "orig_nbformat": 4,
  "vscode": {
   "interpreter": {
    "hash": "4913ed92adf4fb24dff325cddf3820899273b13e1364fac2e6040e861e7b0f0a"
   }
  }
 },
 "nbformat": 4,
 "nbformat_minor": 2
}
