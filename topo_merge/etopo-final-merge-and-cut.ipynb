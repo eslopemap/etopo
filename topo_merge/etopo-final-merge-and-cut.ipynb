{
 "cells": [
  {
   "cell_type": "code",
   "execution_count": 1,
   "id": "deae76cd",
   "metadata": {},
   "outputs": [],
   "source": [
    "%load_ext autoreload\n",
    "%autoreload 2"
   ]
  },
  {
   "cell_type": "code",
   "execution_count": 2,
   "id": "7a95b588",
   "metadata": {},
   "outputs": [],
   "source": [
    "import os\n",
    "from os.path import exists, join as pjoin, realpath\n",
    "NBROOT = realpath(os.curdir)\n",
    "\n",
    "import logging\n",
    "logging.basicConfig(level=logging.DEBUG)\n",
    "logging.getLogger('PIL').level = logging.INFO # PIL.PngImagePlugin\n",
    "\n",
    "import sys\n",
    "sys.path.append(realpath('..'))\n",
    "sys.path.append(realpath('../../eslope/development/src'))\n",
    "\n",
    "from glob import glob\n",
    "import json\n",
    "from pathlib import Path\n",
    "from time import time\n",
    "from urllib.error import HTTPError\n",
    "from urllib.request import urlopen, urlretrieve\n",
    "from subprocess import check_call, CalledProcessError\n",
    "\n",
    "try:\n",
    "    # like os.system but with live output\n",
    "    from IPython.utils.process import system\n",
    "    def check_run(cmd):  # type:ignore\n",
    "        r = system(cmd)\n",
    "        if r: raise CalledProcessError(r, cmd)\n",
    "        return r\n",
    "except ImportError:\n",
    "    def check_run(cmd):\n",
    "        return check_call(cmd, shell=True)\n",
    "\n",
    "#external\n",
    "#!pip install shapely\n",
    "import shapely\n",
    "from shapely.geometry import mapping, shape, GeometryCollection, Polygon, Point\n",
    "from shapely.ops import cascaded_union\n",
    "import numpy as np\n",
    "from IPython.display import display, Image\n",
    "from PIL import Image as Img\n",
    "import mercantile as T\n",
    "from osgeo import gdal\n",
    "gdal.UseExceptions()\n",
    "\n",
    "# own\n",
    "import mbt_util as M\n",
    "import bbox\n",
    "from mbt_util import mbt_merge, mbt_info\n",
    "from src import etopo_meta as E, img_util as G, geometry as GY, \\\n",
    "    mbt_download as MD, mbt_partial as MP, mbt_pyramid as MY, swisstopo as SS\n",
    "from src.jpg_quality_pil_magick import get_jpg_quality\n"
   ]
  },
  {
   "cell_type": "code",
   "execution_count": 3,
   "metadata": {},
   "outputs": [
    {
     "name": "stdout",
     "output_type": "stream",
     "text": [
      "/home/me/Downloads/dwnmaps/mapdata/mbtiles\n"
     ]
    }
   ],
   "source": [
    "%cd /opt/map/mapdata/mbtiles"
   ]
  },
  {
   "cell_type": "code",
   "execution_count": 4,
   "metadata": {},
   "outputs": [],
   "source": [
    "names = GY.bbalp_names\n",
    "paths = {i: name + '.mbtiles' for i, name in names.items()}\n"
   ]
  },
  {
   "cell_type": "code",
   "execution_count": 15,
   "metadata": {},
   "outputs": [
    {
     "name": "stderr",
     "output_type": "stream",
     "text": [
      "INFO:shapely.geos:Self-intersection at or near point 10.54688 47.517200000000003\n"
     ]
    },
    {
     "data": {
      "image/svg+xml": "<svg xmlns=\"http://www.w3.org/2000/svg\" xmlns:xlink=\"http://www.w3.org/1999/xlink\" width=\"100.0\" height=\"100.0\" viewBox=\"4.9851588 40.955958800000005 7.783592400000001 7.085882399999996\" preserveAspectRatio=\"xMinYMin meet\"><g transform=\"matrix(1,0,0,-1,0,88.99780000000001)\"><g><path fill-rule=\"evenodd\" fill=\"#ff3333\" stroke=\"#555555\" stroke-width=\"0.155671848\" opacity=\"0.6\" d=\"M 6.32812,43.58039 L 6.32812,41.244240000000005 L 9.84375,41.244240000000005 L 9.84375,43.58039 L 6.32812,43.58039 z\" /><path fill-rule=\"evenodd\" fill=\"#ff3333\" stroke=\"#555555\" stroke-width=\"0.155671848\" opacity=\"0.6\" d=\"M 6.32812,44.59047 L 6.32812,43.58039 L 8.08594,43.58039 L 8.08594,44.59047 L 6.32812,44.59047 z\" /><path fill-rule=\"evenodd\" fill=\"#ff3333\" stroke=\"#555555\" stroke-width=\"0.155671848\" opacity=\"0.6\" d=\"M 5.27344,44.59047 L 5.27344,43.06889 L 6.32812,43.06889 L 6.32812,44.59047 L 5.27344,44.59047 z\" /><path fill-rule=\"evenodd\" fill=\"#ff3333\" stroke=\"#555555\" stroke-width=\"0.155671848\" opacity=\"0.6\" d=\"M 5.27344,45.08904 L 5.27344,44.59047 L 7.38281,44.59047 L 7.38281,45.08904 L 5.27344,45.08904 z\" /><path fill-rule=\"evenodd\" fill=\"#ff3333\" stroke=\"#555555\" stroke-width=\"0.155671848\" opacity=\"0.6\" d=\"M 5.625,45.58329 L 5.625,45.08904 L 7.910152500000001,45.08904 L 7.910152500000001,45.58329 L 5.625,45.58329 z\" /><path fill-rule=\"evenodd\" fill=\"#ff3333\" stroke=\"#555555\" stroke-width=\"0.155671848\" opacity=\"0.6\" d=\"M 5.97656,46.55886 L 5.97656,45.58329 L 7.03125,45.58329 L 7.03125,46.55886 L 5.97656,46.55886 z\" /><path fill-rule=\"evenodd\" fill=\"#ff3333\" stroke=\"#555555\" stroke-width=\"0.155671848\" opacity=\"0.6\" d=\"M 7.03125,46.55886 L 7.03125,45.58329 L 8.08594,45.58329 L 8.08594,46.55886 L 7.03125,46.55886 z\" /><path fill-rule=\"evenodd\" fill=\"#ff3333\" stroke=\"#555555\" stroke-width=\"0.155671848\" opacity=\"0.6\" d=\"M 8.08594,46.55886 L 8.08594,45.58329 L 9.14062,45.58329 L 9.14062,46.55886 L 8.08594,46.55886 z\" /><path fill-rule=\"evenodd\" fill=\"#ff3333\" stroke=\"#555555\" stroke-width=\"0.155671848\" opacity=\"0.6\" d=\"M 9.14062,46.55886 L 9.14062,45.82826 L 10.54688,45.82826 L 10.54688,46.55886 L 9.14062,46.55886 z\" /><path fill-rule=\"evenodd\" fill=\"#ff3333\" stroke=\"#555555\" stroke-width=\"0.155671848\" opacity=\"0.6\" d=\"M 6.32812,47.04018 L 6.32812,46.55886 L 8.4375,46.55886 L 8.4375,47.04018 L 6.32812,47.04018 z\" /><path fill-rule=\"evenodd\" fill=\"#ff3333\" stroke=\"#555555\" stroke-width=\"0.155671848\" opacity=\"0.6\" d=\"M 8.4375,47.04018 L 8.4375,46.55886 L 10.54688,46.55886 L 10.54688,47.04018 L 8.4375,47.04018 z\" /><path fill-rule=\"evenodd\" fill=\"#ff3333\" stroke=\"#555555\" stroke-width=\"0.155671848\" opacity=\"0.6\" d=\"M 8.789,47.5172 L 8.789,47.04018 L 10.54688,47.04018 L 10.54688,47.5172 L 8.789,47.5172 z\" /><path fill-rule=\"evenodd\" fill=\"#ff3333\" stroke=\"#555555\" stroke-width=\"0.155671848\" opacity=\"0.6\" d=\"M 10.54688,47.5172 L 10.54688,45.82826 L 11.95313,45.82826 L 11.95313,47.5172 L 10.54688,47.5172 z\" /><path fill-rule=\"evenodd\" fill=\"#ff3333\" stroke=\"#555555\" stroke-width=\"0.155671848\" opacity=\"0.6\" d=\"M 11.95313,47.75356 L 11.95313,46.316045 L 12.48047,46.316045 L 12.48047,47.75356 L 11.95313,47.75356 z\" /></g></g></svg>",
      "text/plain": [
       "<shapely.geometry.multipolygon.MultiPolygon at 0x7f949e57ba90>"
      ]
     },
     "execution_count": 15,
     "metadata": {},
     "output_type": "execute_result"
    }
   ],
   "source": [
    "GY.etopo2geojson(NBROOT+'/../data/areas/etopo_alps_extents.geojson')\n",
    "GY.MultiPolygon(map(GY.bb2poly, GY.bbalps.values()))"
   ]
  },
  {
   "cell_type": "code",
   "execution_count": null,
   "metadata": {},
   "outputs": [
    {
     "name": "stdout",
     "output_type": "stream",
     "text": [
      "= 71118 * 32 kb/tile q = 89  Kompass_dolo\n",
      "= 3375 * 34 kb/tile q = 88 ; mch-z9-12\n",
      "= 64265 * 29 kb/tile q = 88  mch9\n",
      "= 280691 * 28 kb/tile q = 95 mch\n",
      "= 61937 * 28 kb/tile q = 95  mch5\n",
      "= 28259 * 31 kb/tile q = 88  mch7\n",
      "= 55846 * 30 kb/tile q = 95  mch6\n",
      " = 152742 * 23 kb/tile q = 8 Bugianen\n",
      " = 61535 * 23 kb/tile q = 80 Bugianen-calps\n",
      "= 4949 * 18 kb/tile q = 75 ; IGNt11-alps\n",
      "= 68832 * 19 kb/tile q = 75  IGNt1-Mercantour-Ubaye-Antibes-Embrun\n",
      "= 49153 * 20 kb/tile q = 75  IGNt4-Chartreuse-Vanoise Chambery-Bardon\n",
      "= 62043 * 18 kb/tile q = 75  IGNt5-MontBlanc-Chambery-Evian\n",
      "= 55476 * 20 kb/tile q = 75  IGNt3-Vercors-Ecrins-Cerces\n",
      "= 65536 * 19 kb/tile q = 75  IGNt2-Digne-Aups-Eguilles-Gap\n",
      "= 15393 * 20 kb/tile q = 75  IGNt111-addendum\n",
      "= 109296 * 25 kb/tile q = 75 alps5-Mont-Blanc-Leman-Cervino-Cogne\n",
      "= 65035 * 24 kb/tile q = 88  alps8\n",
      "= 68648 * 37 kb/tile q = 95  alps3-Vercors-Ecrins-Queyras-Cozie\n",
      "= 64814 * 45 kb/tile q = 99  alps4-Grenoble-Savoie-Susa-Lanzo-GParadiso\n",
      "= 3439 * 35 kb/tile q = 1 ;  alps12\n",
      "= 92072 * 30 kb/tile q = 95  alps1-Mercantour-Ubaye-Cuneese\n"
     ]
    }
   ],
   "source": [
    "for path in (\n",
    "    '../mobac_atlases/Kompass_dolo.mbtiles',\n",
    "    *glob(f'mch*.mbtiles'),\n",
    "    *glob(f'Bugianen*.mbtiles'),\n",
    "    *glob('../mobac_atlases/IGNt*.mbtiles'),\n",
    "    *glob(f'alps*.mbtiles'),\n",
    "):\n",
    "    print(M.mbt_info(path)[16:44], os.path.basename(path)[:-8] )"
   ]
  },
  {
   "cell_type": "code",
   "execution_count": 6,
   "metadata": {},
   "outputs": [
    {
     "data": {
      "text/plain": [
       "'zoom = 9 16 ; n = 280691 * 28 kb/tile q = 95 ; bounds = 8.4375,46.55886,10.54688,47.04018 ; center = 4.57031,44.83975,9 ; format = jpeg ; name = SwissTopo mix-scale'"
      ]
     },
     "execution_count": 6,
     "metadata": {},
     "output_type": "execute_result"
    }
   ],
   "source": [
    "M.mbt_info('mch.mbtiles')"
   ]
  },
  {
   "cell_type": "code",
   "execution_count": 6,
   "id": "69c79eaf",
   "metadata": {},
   "outputs": [
    {
     "data": {
      "text/plain": [
       "{'name': 'SwissTopo mix-scale',\n",
       " 'description': 'Switzerland SwissTopo National Map, zoom 9-16. https://map.geo.admin.ch\\nUnlike the website, this is a downscaled version when possible (1 zoom level up for each layer).',\n",
       " 'bounds': '4.21875,44.59047,13.35938,48.45835',\n",
       " 'format': 'jpeg',\n",
       " 'type': 'baselayer',\n",
       " 'center': '8.78906,46.52441,9',\n",
       " 'minzoom': '9',\n",
       " 'maxzoom': '12'}"
      ]
     },
     "execution_count": 6,
     "metadata": {},
     "output_type": "execute_result"
    }
   ],
   "source": [
    "M.get_meta('mch.mbtiles')"
   ]
  },
  {
   "attachments": {},
   "cell_type": "markdown",
   "metadata": {},
   "source": [
    "## Z12\n",
    "\n",
    "Make the low-zoom (6-8 + 9-12) file (111 MB)\n",
    "\n",
    "* OpenTopoMap z6-8 TMS: -11.25 40.99 22.49 48.91\n",
    "* IGN 9-12:\n",
    "  * z10: -5.27, 42.29, 8.79, 51.18\n",
    "  * z12: -5.01, 42.29, 8.61, 51.12\n",
    "  * Corsica z11 : 8.44 41.25 9.66 43.06\n",
    "* SwissTopo swisstopo.py: bbch12\n",
    "* Kompass z9-12 (really just 11-12)"
   ]
  },
  {
   "cell_type": "code",
   "execution_count": 51,
   "metadata": {},
   "outputs": [
    {
     "data": {
      "text/plain": [
       "BBox(w=8.4375, s=41.244772343082076, e=9.66796875, n=43.06888777416962)"
      ]
     },
     "execution_count": 51,
     "metadata": {},
     "output_type": "execute_result"
    }
   ],
   "source": [
    "bbox.BBox(8.4, 41.26, 9.6, 43.03).snap_to_xyz(z=11)"
   ]
  },
  {
   "cell_type": "code",
   "execution_count": 9,
   "id": "46b2fce4",
   "metadata": {},
   "outputs": [
    {
     "name": "stdout",
     "output_type": "stream",
     "text": [
      "Overwriting  mch-z9-12.mbtiles\n",
      "z 9 : 104\n",
      "z 10 : 416\n",
      "z 11 : 264\n",
      "z 12 : 2591\n"
     ]
    }
   ],
   "source": [
    "mbtch12 = M.cut_zoom('mch.mbtiles', zooms=[9, 10, 11, 12], overwrite=True)"
   ]
  },
  {
   "cell_type": "code",
   "execution_count": 21,
   "metadata": {},
   "outputs": [],
   "source": [
    "mbtch12 = 'chz12.mbtiles'  # now a dedicated download"
   ]
  },
  {
   "cell_type": "code",
   "execution_count": 41,
   "metadata": {},
   "outputs": [
    {
     "name": "stdout",
     "output_type": "stream",
     "text": [
      "real bounds  11 [5.63, 45.46, 11.25, 48.22] 1056 1315 1087 1337\n",
      "real bounds  12 [5.45, 45.4, 11.25, 48.17] 2110 2629 2175 2674\n"
     ]
    },
    {
     "data": {
      "text/plain": [
       "(11,\n",
       " 12,\n",
       " LngLatBbox(west=5.449218749999985, south=45.398449976304086, east=11.249999999999998, north=48.22467264956519))"
      ]
     },
     "execution_count": 41,
     "metadata": {},
     "output_type": "execute_result"
    }
   ],
   "source": [
    "M.real_bounds( 'chz12.mbtiles', log=print)"
   ]
  },
  {
   "cell_type": "code",
   "execution_count": 56,
   "metadata": {},
   "outputs": [
    {
     "name": "stdout",
     "output_type": "stream",
     "text": [
      "<< ../mobac_atlases/IGNt0-z12-Corsica : zoom = 9 12 ; n = 526 * 11 kb/tile q = 75 ; bounds = 8.438,40.982,9.842,43.069 ; format = jpg ; name = IGN-z12-Corsica\n",
      "Deduplicated 0 tiles.\n",
      ">> ../mobac_atlases/IGN-fr-z9-12 : zoom = 9 12 ; n = 27920 q = 75 ; bounds = 0.0,42.03297,9.14063,48.9225 ; center = 4.57031,45.47774,9 ; format = jpg ; name = IGN France baselayer z9-12\n",
      "Meta update {'bounds': '-5.625,40.9799,9.84375,51.17934',\n",
      " 'center': '2.10937,46.07962,9',\n",
      " 'maxzoom': 12,\n",
      " 'minzoom': 9,\n",
      " 'type': 'baselayer'}\n"
     ]
    }
   ],
   "source": [
    "M.mbt_merge('../mobac_atlases/IGNt0-z12-Corsica.mbtiles', dest='../mobac_atlases/IGN-fr-z9-12.mbtiles')"
   ]
  },
  {
   "cell_type": "code",
   "execution_count": null,
   "metadata": {},
   "outputs": [
    {
     "name": "stdout",
     "output_type": "stream",
     "text": [
      "real bounds  9 [-5.63, 42.03, 9.14, 51.18] 248 322 268 340\n",
      "real bounds  10 [-5.27, 42.29, 8.79, 51.18] 497 645 536 681\n",
      "real bounds  11 [-5.1, 42.29, 8.61, 51.18] 995 1290 1072 1363\n",
      "real bounds  12 [-5.01, 42.29, 8.61, 51.12] 1991 2580 2145 2726\n"
     ]
    },
    {
     "data": {
      "text/plain": [
       "(9,\n",
       " 12,\n",
       " LngLatBbox(west=-5.625000000000014, south=42.03297433244139, east=9.140625000000004, north=51.179342979289274))"
      ]
     },
     "metadata": {},
     "output_type": "display_data"
    }
   ],
   "source": [
    "M.real_bounds('../mobac_atlases/IGN-fr-z9-12.mbtiles', log=print)"
   ]
  },
  {
   "cell_type": "code",
   "execution_count": 84,
   "metadata": {},
   "outputs": [
    {
     "name": "stdout",
     "output_type": "stream",
     "text": [
      "cut_to_lnglat ../mobac_atlases/IGN-fr-z9-12.mbtiles -> alps-z612.mbtiles\n",
      "z6: no tiles, skipping\n",
      "z7: no tiles, skipping\n",
      "z8: no tiles, skipping\n",
      "z 9: +188 tiles: 256<x<269 320<y<335\n",
      "z 10: +700 tiles: 512<x<539 641<y<671\n",
      "z 11: +2722 tiles: 1024<x<1078 1282<y<1343\n",
      "z 12: +10856 tiles: 2048<x<2157 2564<y<2687\n",
      "Meta update {'bounds': '0.0,40.9799,9.84375,48.9225',\n",
      " 'center': '4.92188,44.95120,9',\n",
      " 'maxzoom': 12,\n",
      " 'minzoom': 9,\n",
      " 'type': 'baselayer'}\n",
      "<< Kompass_dolo : zoom = 8 15 ; n = 71118 * 32 kb/tile q = 89 ; bounds = 8.4375,45.08904,12.65625,47.98992 ; center = 10.54688,46.53948,8 ; format = jpg ; name = Kompass_dolo\n",
      "Deduplicated 11 tiles.\n",
      "cut_to_lnglat Kompass_dolo.mbtiles -> /tmp/tmp.mbtiles\n",
      ">> alps-z612 : zoom = 8 12 ; n = 15601 q = 75 ; bounds = -5.625,40.9799,9.84375,51.17934 ; center = 2.10937,46.07962,9 ; format = jpg ; name = IGN France baselayer z9-12\n",
      "<< chz9z10 : zoom = 9 10 ; n = 520 * 30 kb/tile q = 88 ; bounds = 4.21875,44.59047,13.35938,48.45835 ; center = 8.78906,46.52441,9 ; format = jpeg ; name = chz9\n",
      "cut_to_lnglat chz9z10.mbtiles -> /tmp/tmp.mbtiles\n",
      ">> alps-z612 : zoom = 8 12 ; n = 15779 q = 75 ; bounds = -5.625,40.9799,9.84375,51.17934 ; center = 2.10937,46.07962,9 ; format = jpg ; name = IGN France baselayer z9-12\n",
      "<< chz12 : zoom = 11 12 ; n = 3772 * 35 kb/tile q = 88 ; bounds = 5.44922,45.39845,11.25,48.22467 ; center = 8.34961,46.81156,11 ; format = jpeg ; name = chz12\n",
      "cut_to_lnglat chz12.mbtiles -> /tmp/tmp.mbtiles\n",
      ">> alps-z612 : zoom = 8 12 ; n = 16976 q = 75 ; bounds = -5.625,40.9799,9.84375,51.17934 ; center = 2.10937,46.07962,9 ; format = jpg ; name = IGN France baselayer z9-12\n",
      "<< ../mobac_atlases/OpenTopoMap-z58 : zoom = 5 8 ; n = 255 * 33 kb/tile ; bounds = 0.0,40.9799,22.5,48.9225 ; center = -5.62500,44.95120,5 ; format = png ; name = OpenTopoMap-z58\n",
      "Deduplicated 0 tiles.\n",
      "cut_to_lnglat ../mobac_atlases/OpenTopoMap-z58.mbtiles -> /tmp/tmp.mbtiles\n",
      "Fallback `center` to first tile:  5 15 20 -5.624999999999994 44.95119866668919\n",
      ">> alps-z612 : zoom = 6 12 ; n = 17136 q = 75 ; bounds = -5.625,40.9799,9.84375,51.17934 ; center = 2.10937,46.07962,9 ; format = jpg ; name = IGN France baselayer z9-12\n",
      "Meta update {'bounds': '0.0,40.9799,22.5,48.9225',\n",
      " 'center': '11.25000,44.95120,6',\n",
      " 'maxzoom': 12,\n",
      " 'minzoom': 6,\n",
      " 'type': 'baselayer'}\n",
      "Created: alps-z612\n"
     ]
    }
   ],
   "source": [
    "! rm 'alps-z612.mbtiles'\n",
    "M.mbt_merge('../mobac_atlases/IGN-fr-z9-12.mbtiles', 'Kompass_dolo.mbtiles', 'chz9z10.mbtiles', 'chz12.mbtiles',\n",
    "            '../mobac_atlases/OpenTopoMap-z58.mbtiles', dest='alps-z612.mbtiles',\n",
    "            bb=GY.LLBb(0.0,40.97,22.5,48.92), zmin=6, zmax=12)"
   ]
  },
  {
   "cell_type": "code",
   "execution_count": 57,
   "metadata": {},
   "outputs": [
    {
     "name": "stdout",
     "output_type": "stream",
     "text": [
      "real bounds  5 [0.0, 40.98, 22.5, 48.92] 16 20 17 20\n",
      "real bounds  6 [0.0, 40.98, 22.5, 48.92] 32 40 35 41\n",
      "real bounds  7 [0.0, 40.98, 22.5, 48.92] 64 80 71 83\n",
      "real bounds  8 [0.0, 40.98, 22.5, 48.92] 128 160 143 167\n",
      "real bounds  9 [0.0, 42.03, 13.36, 48.92] 256 322 274 335\n",
      "real bounds  10 [0.0, 42.29, 13.36, 48.92] 512 645 549 671\n",
      "real bounds  11 [0.0, 42.29, 11.25, 48.92] 1024 1290 1087 1343\n",
      "real bounds  12 [0.0, 42.29, 11.25, 48.92] 2048 2580 2175 2687\n"
     ]
    },
    {
     "data": {
      "text/plain": [
       "(5,\n",
       " 12,\n",
       " LngLatBbox(west=0.0, south=40.979898069620134, east=22.50000000000001, north=48.92249926375824))"
      ]
     },
     "execution_count": 57,
     "metadata": {},
     "output_type": "execute_result"
    }
   ],
   "source": [
    "M.real_bounds('alpsz12.mbtiles', log=print)"
   ]
  },
  {
   "cell_type": "code",
   "execution_count": 58,
   "metadata": {},
   "outputs": [
    {
     "data": {
      "text/plain": [
       "'zoom = 5 16 ; n = 16194 * 23 kb/tile q = 1 ; bounds = 0.0,40.9799,22.5,48.9225 ; center = 11.25000,44.95120,5 ; format = jpg ; name = alpsz12'"
      ]
     },
     "execution_count": 58,
     "metadata": {},
     "output_type": "execute_result"
    }
   ],
   "source": [
    "wjpg = G.white_jpg(256)\n",
    "z, x, y = M.lnglat2tms(16, lng=9, lat=46)\n",
    "M.insert_tiles('alpsz12.mbtiles', [(z, x, y, wjpg)])\n",
    "M.set_real_bounds('alpsz12.mbtiles')\n",
    "M.mbt_info('alpsz12.mbtiles')"
   ]
  },
  {
   "cell_type": "code",
   "execution_count": 34,
   "metadata": {},
   "outputs": [
    {
     "name": "stdout",
     "output_type": "stream",
     "text": [
      "real bounds  5 [0.0, 40.98, 22.5, 48.92] 16 20 17 20\n",
      "real bounds  6 [0.0, 40.98, 16.87, 48.92] 32 40 34 41\n",
      "real bounds  7 [2.81, 43.07, 16.87, 48.92] 65 81 69 83\n",
      "real bounds  8 [4.22, 43.07, 15.47, 47.99] 131 162 138 166\n",
      "real bounds  10 [5.63, 45.58, 11.25, 48.22] 528 658 543 668\n",
      "real bounds  11 [5.45, 45.34, 11.25, 48.22] 1055 1314 1087 1337\n",
      "real bounds  12 [5.45, 45.4, 11.25, 48.17] 2110 2629 2175 2674\n",
      "real bounds  16 [9.0, 46.0, 9.0, 46.0] 34406 42220 34406 42220\n"
     ]
    },
    {
     "data": {
      "text/plain": [
       "(5,\n",
       " 16,\n",
       " LngLatBbox(west=0.0, south=40.979898069620134, east=22.499999999999996, north=48.92249926375824))"
      ]
     },
     "execution_count": 34,
     "metadata": {},
     "output_type": "execute_result"
    }
   ],
   "source": [
    "M.cut_zoom('alpsz12.mbtiles', alpslog=print)"
   ]
  },
  {
   "attachments": {},
   "cell_type": "markdown",
   "metadata": {},
   "source": [
    "## Z16"
   ]
  },
  {
   "cell_type": "code",
   "execution_count": 42,
   "metadata": {},
   "outputs": [
    {
     "name": "stdout",
     "output_type": "stream",
     "text": [
      "mch8\n",
      "(6.33, 46.56, 8.44, 47.04)\n",
      "(6.33, 46.56, 8.44, 47.04)\n",
      "(6.33, 46.56, 8.44, 47.04)\n",
      "(6.56, 46.56, 8.44, 47.0)\n",
      "mch9\n",
      "(8.44, 46.56, 10.55, 47.04)\n",
      "(8.44, 46.56, 10.55, 47.04)\n",
      "(8.44, 46.56, 10.55, 47.04)\n",
      "(8.44, 46.56, 10.46, 46.95)\n",
      "mch.\n",
      "(4.22, 44.59, 13.36, 48.46)\n",
      "(5.98, 45.8, 10.55, 47.04)\n",
      "(5.98, 46.25, 10.2, 47.04)\n",
      "(9.07, 46.54, 9.07, 46.56)\n",
      "mch5\n",
      "(5.63, 45.58, 7.73, 46.56)\n",
      "(5.98, 45.81, 7.73, 46.56)\n",
      "(5.98, 45.93, 7.73, 46.56)\n",
      "(7.12, 46.13, 6.79, 46.56)\n",
      "mch7\n",
      "(9.14, 45.58, 10.55, 46.56)\n",
      "(9.14, 45.81, 10.55, 46.56)\n",
      "(9.14, 46.34, 9.28, 46.56)\n",
      "(9.14, 46.54, 9.27, 46.56)\n",
      "mch6\n",
      "(7.73, 45.58, 9.14, 46.56)\n",
      "(7.73, 45.8, 9.14, 46.56)\n",
      "(7.73, 46.14, 9.14, 46.56)\n",
      "(9.07, 45.93, 9.07, 46.56)\n"
     ]
    }
   ],
   "source": [
    "for path in glob(f'mch*.mbtiles'):\n",
    "    print(path[:4],\n",
    "    tuple(round(n, 2) for n in M.real_bounds(path)[2]),  #bb max (union) of zmax\n",
    "    tuple(round(n, 2) for n in M.real_bounds(path, strict=True)[2]), # bb min (intersection) of zmax\n",
    "    tuple(round(n, 2) for n in M.compute_inner_bounds(path)),  # min of zcenter\n",
    "    tuple(round(n, 2) for n in M.compute_strictest_bounds(path)),  # min of zborders\n",
    "    #  mbt_info(path),\n",
    "     sep='\\n')"
   ]
  },
  {
   "cell_type": "code",
   "execution_count": 9,
   "metadata": {},
   "outputs": [
    {
     "name": "stdout",
     "output_type": "stream",
     "text": [
      "zoom = 9 16 ; n = 64787 * 22 kb/tile ; bounds = 5.625,45.58329,7.03125,46.55886 ; center = 6.32813,46.07108,9 ; format = jpg ; name = frit5-Mont-Blanc-Leman-Cervino-Cogne frit\n",
      "zoom = 9 16 ; n = 109296 * 25 kb/tile ; bounds = 5.625,45.58329,7.73438,46.55886 ; center = 6.67969,46.07108,9 ; format = jpg ; name = alps5-Mont-Blanc-Leman-Cervino-Cogne alps\n",
      "zoom = 9 16 ; n = 68648 * 37 kb/tile ; bounds = 4.92188,44.58656,7.73438,45.08904 ; center = 6.32813,44.83780,9 ; format = jpg ; name = alps3-Vercors-Ecrins-Queyras-Cozie alps\n",
      "zoom = 12 16 ; n = 152742 * 23 kb/tile ; bounds = 6.67969,45.58329,7.73438,46.01222 ; center = 7.20703,45.79776,12 ; format = jpg ; name = Bugianen Bugi\n",
      "zoom = 9 16 ; n = 64814 * 45 kb/tile ; bounds = 5.625,45.08904,8.4375,45.58329 ; center = 7.03125,45.33616,9 ; format = jpg ; name = alps4-Grenoble-Savoie-Susa-Lanzo-GParadiso alps\n",
      "zoom = 12 16 ; n = 61535 * 23 kb/tile ; bounds = 6.76758,44.02442,8.17383,44.59047 ; center = 7.47070,44.30744,12 ; format = jpg ; name = Bugianen C.Alps Bugi\n",
      "zoom = 9 16 ; n = 92072 * 30 kb/tile ; bounds = 6.32812,43.58039,8.4375,44.59047 ; center = 7.38281,44.08543,9 ; format = jpg ; name = alps1-Mercantour-Ubaye-Cuneese alps\n",
      "zoom = 9 16 ; n = 280691 * 28 kb/tile ; bounds = 6.32812,46.55886,10.54688,47.04018 ; center = 8.43750,46.79952,9 ; format = jpeg ; name = SwissTopo mix-scale mch.\n",
      "zoom = 9 16 ; n = 61937 * 28 kb/tile ; bounds = 4.21875,44.37000,13.35938,48.45835 ; format = jpeg ; name = SwissTopo mix-scale mch5\n",
      "zoom = 9 16 ; n = 28259 * 31 kb/tile ; bounds = 7.73437,45.58329,9.14063,46.55886 ; center = 8.43750,46.07108,9 ; format = jpeg ; name = SwissTopo mix-scale mch7\n",
      "zoom = 9 16 ; n = 55846 * 30 kb/tile ; bounds = 5.625,45.58329,7.73438,46.55886 ; center = 6.67969,46.07108,9 ; format = jpeg ; name = SwissTopo mix-scale mch6\n"
     ]
    }
   ],
   "source": [
    "from glob import glob\n",
    "\n",
    "for path in glob(f'*.mbtiles'):\n",
    "    print(mbt_info(path), path[:4])"
   ]
  },
  {
   "cell_type": "code",
   "execution_count": 15,
   "metadata": {},
   "outputs": [
    {
     "name": "stdout",
     "output_type": "stream",
     "text": [
      "5\n",
      "6\n",
      "7\n",
      "8\n",
      "9\n",
      "10\n"
     ]
    }
   ],
   "source": [
    "for N in (5,6,7,8,9, 10):\n",
    "    print(N)\n",
    "    name, chcpath = names[N], paths[N]\n",
    "    if not os.path.exists(chcpath):\n",
    "        continue\n",
    "        M.cut_to_lnglat('mch.mbtiles', chcpath, GY.bbalps[N])\n",
    "    M.update_mbt_meta(chcpath, name=name)\n",
    "    M.set_real_bounds(chcpath)"
   ]
  },
  {
   "cell_type": "code",
   "execution_count": 21,
   "metadata": {},
   "outputs": [
    {
     "data": {
      "text/plain": [
       "{'name': 'alps9-CHCW-Vaud-Luzern-Grimselpass',\n",
       " 'description': 'Switzerland SwissTopo National Map, zoom 9-16. https://map.geo.admin.ch\\nUnlike the website, this is a downscaled version when possible (1 zoom level up for each layer).',\n",
       " 'bounds': '6.32812,46.55886,8.4375,47.04018',\n",
       " 'format': 'jpeg',\n",
       " 'type': 'baselayer',\n",
       " 'center': '7.38281,46.79952,10',\n",
       " 'minzoom': '10',\n",
       " 'maxzoom': '16'}"
      ]
     },
     "execution_count": 21,
     "metadata": {},
     "output_type": "execute_result"
    }
   ],
   "source": [
    "M.get_meta(paths[9])"
   ]
  },
  {
   "cell_type": "code",
   "execution_count": 20,
   "metadata": {},
   "outputs": [
    {
     "name": "stdout",
     "output_type": "stream",
     "text": [
      "cp alps9-CHCW-Vaud-Luzern-Grimselpassz9.mbtiles alps9-CHCW-Vaud-Luzern-Grimselpass.mbtiles\n",
      "<<>> alps9-CHCW-Vaud-Luzern-Grimselpassz9 : zoom = 9 16 ; n = 65035 * 24 kb/tile q = 88 ; bounds = 6.32812,46.55886,8.4375,47.04018 ; center = 7.38281,46.79952,9 ; format = jpeg ; name = alps9-CHCW-Vaud-Luzern-Grimselpass\n",
      "z 9 : removed 3\n",
      "Meta update {'bounds': '6.32812,46.55886,8.4375,47.04018',\n",
      " 'center': '7.38281,46.79952,10',\n",
      " 'maxzoom': 16,\n",
      " 'minzoom': 10,\n",
      " 'type': 'baselayer'}\n"
     ]
    }
   ],
   "source": [
    "M.remove_lnglat(f'{paths[9][:-8]}z9.mbtiles', paths[9], zmin=9, zmax=9)"
   ]
  },
  {
   "cell_type": "code",
   "execution_count": 47,
   "metadata": {},
   "outputs": [
    {
     "name": "stdout",
     "output_type": "stream",
     "text": [
      "zoom = 9 16 ; n = 65536 * 19 kb/tile q = 75 ; bounds = 4.922,43.580,6.328,44.590 ; format = jpg ; name = IGNt2-Digne-Aups-Eguilles-Gap\n",
      "Backing up source as: alps2-Digne-Aups-Eguilles-Gap.mbtiles\n",
      "cp alps2-Digne-Aups-Eguilles-Gap.bak.mbtiles alps2-Digne-Aups-Eguilles-Gap.mbtiles\n",
      "<<>> alps2-Digne-Aups-Eguilles-Gap.bak : zoom = 9 16 ; n = 65536 * 19 kb/tile q = 75 ; bounds = 4.922,43.580,6.328,44.590 ; format = jpg ; name = IGNt2-Digne-Aups-Eguilles-Gap\n",
      "z 9 : removed 4\n",
      "Meta update {'bounds': '5.27344,43.58039,6.32813,44.59047',\n",
      " 'center': '5.80078,44.08543,10',\n",
      " 'maxzoom': 16,\n",
      " 'minzoom': 10,\n",
      " 'type': 'baselayer'}\n"
     ]
    }
   ],
   "source": [
    "print(M.mbt_info(paths[2]))\n",
    "M.remove_lnglat(f'{paths[2]}', zmin=9, zmax=9)"
   ]
  },
  {
   "cell_type": "code",
   "execution_count": 16,
   "metadata": {},
   "outputs": [
    {
     "name": "stdout",
     "output_type": "stream",
     "text": [
      "Backing up source as: alps1-Mercantour-Ubaye-Cuneese.mbtiles\n",
      "10 16 16\n",
      "z 10: +20 tiles: 530<x<534 650<y<653\n",
      "z 11: +71 tiles: 1060<x<1068 1300<y<1307\n",
      "z 12: +292 tiles: 2120<x<2139 2600<y<2615\n",
      "z 13: +1070 tiles: 4240<x<4279 5200<y<5231\n",
      "z 14: +4268 tiles: 8480<x<8559 10400<y<10463\n",
      "z 15: +16982 tiles: 16960<x<17119 20800<y<20927\n",
      "z 16: +67313 tiles: 33920<x<34239 41600<y<41855\n",
      "Meta update {'bounds': '6.32812,43.58039,8.08594,44.59047',\n",
      " 'center': '7.20703,44.08543,10',\n",
      " 'maxzoom': 16,\n",
      " 'minzoom': 10,\n",
      " 'type': 'baselayer'}\n"
     ]
    }
   ],
   "source": [
    "M.cut_to_lnglat(paths[1], bb=GY.bbalps1z10)"
   ]
  },
  {
   "cell_type": "code",
   "execution_count": 14,
   "metadata": {},
   "outputs": [
    {
     "name": "stdout",
     "output_type": "stream",
     "text": [
      "real bounds  10 [6.33, 43.58, 8.44, 44.59] 530 650 535 653\n",
      "real bounds  11 [6.33, 43.58, 7.91, 44.59] 1060 1300 1068 1307\n",
      "real bounds  12 [6.33, 43.58, 8.17, 44.59] 2120 2600 2140 2615\n",
      "real bounds  13 [6.33, 43.58, 8.17, 44.59] 4240 5200 4281 5231\n",
      "real bounds  14 [6.33, 43.58, 8.17, 44.59] 8480 10400 8563 10463\n",
      "real bounds  15 [6.33, 43.58, 8.17, 44.59] 16960 20800 17127 20927\n",
      "real bounds  16 [6.33, 43.58, 8.17, 44.59] 33920 41600 34255 41855\n"
     ]
    },
    {
     "data": {
      "text/plain": [
       "(10,\n",
       " 16,\n",
       " LngLatBbox(west=6.328124999999996, south=43.580390855607845, east=8.437500000000014, north=44.590467181308846))"
      ]
     },
     "execution_count": 14,
     "metadata": {},
     "output_type": "execute_result"
    }
   ],
   "source": [
    "M.real_bounds(paths[1], log=print)"
   ]
  },
  {
   "attachments": {},
   "cell_type": "markdown",
   "metadata": {},
   "source": [
    "# `alps1` to `alps5`: Merge IGN and Bugianen\n",
    "\n",
    "This is done in the `merge_frit*.ipynb` notebooks."
   ]
  },
  {
   "attachments": {},
   "cell_type": "markdown",
   "metadata": {},
   "source": [
    "# `alps6` and `alps7`: Merge SwissTopo with Bugianen"
   ]
  },
  {
   "cell_type": "code",
   "execution_count": 21,
   "metadata": {},
   "outputs": [
    {
     "name": "stdout",
     "output_type": "stream",
     "text": [
      "Overwriting  tmpit7.mbtiles\n",
      "12 16 16\n",
      "z 12: +120 tiles: 2136<x<2147 2632<y<2646\n",
      "z 13: +480 tiles: 4272<x<4295 5264<y<5293\n",
      "z 14: +1920 tiles: 8544<x<8591 10528<y<10587\n",
      "z 15: +7680 tiles: 17088<x<17183 21056<y<21175\n",
      "z 16: +30720 tiles: 34176<x<34367 42112<y<42351\n",
      "Meta update {'bounds': '7.73437,45.58329,8.78906,46.49839',\n",
      " 'center': '8.26172,46.04084,12',\n",
      " 'maxzoom': 16,\n",
      " 'minzoom': 12,\n",
      " 'type': 'baselayer'}\n"
     ]
    }
   ],
   "source": [
    "mbtit7 = 'tmpit7.mbtiles'\n",
    "M.cut_to_lnglat('Bugianen.mbtiles', bb=GY.bbalps7, dest=mbtit7, overwrite=True)\n"
   ]
  },
  {
   "cell_type": "code",
   "execution_count": 23,
   "metadata": {},
   "outputs": [
    {
     "name": "stdout",
     "output_type": "stream",
     "text": [
      "Backing up source as: mch7-Ticino-Jungfrau-Lorenzhorn-MtRosa.mbtiles\n",
      "cp mch7-Ticino-Jungfrau-Lorenzhorn-MtRosa.bak.mbtiles mch7-Ticino-Jungfrau-Lorenzhorn-MtRosa.mbtiles\n",
      "<<>> mch7-Ticino-Jungfrau-Lorenzhorn-MtRosa.bak : zoom = 9 16 ; n = 55846 * 30 kb/tile q = 95 ; bounds = 5.625,45.58329,7.73438,46.55886 ; center = 6.67969,46.07108,9 ; format = jpeg ; name = SwissTopo mix#6\n",
      "z 9 : removed 4\n",
      "Meta update {'bounds': '7.73437,45.58329,9.14063,46.55886',\n",
      " 'center': '8.43750,46.07108,10',\n",
      " 'maxzoom': 16,\n",
      " 'minzoom': 10,\n",
      " 'type': 'baselayer'}\n"
     ]
    }
   ],
   "source": [
    "mbtch7 = paths[7].replace('alps', 'mch')\n",
    "M.remove_lnglat(mbtch7, zmin=9, zmax=9)"
   ]
  },
  {
   "cell_type": "code",
   "execution_count": 24,
   "metadata": {},
   "outputs": [
    {
     "name": "stdout",
     "output_type": "stream",
     "text": [
      "cp tmpit7.mbtiles alps7-Ticino-Jungfrau-Lorenzhorn-MtRosa.mbtiles\n",
      "<<>> tmpit7 : zoom = 12 16 ; n = 40920 * 22 kb/tile q = 80 ; bounds = 6.67969,45.58329,7.73438,46.01222 ; center = 7.20703,45.79776,12 ; format = jpg ; name = Bugianen\n",
      "<< mch7-Ticino-Jungfrau-Lorenzhorn-MtRosa : zoom = 10 16 ; n = 55842 * 30 kb/tile q = 95 ; bounds = 7.73437,45.58329,9.14063,46.55886 ; center = 8.43750,46.07108,10 ; format = jpeg ; name = SwissTopo mix#6\n",
      ">> alps7-Ticino-Jungfrau-Lorenzhorn-MtRosa : zoom = 10 16 ; n = 77519 q = 80 ; bounds = 6.67969,45.58329,7.73438,46.01222 ; center = 7.20703,45.79776,12 ; format = jpg ; name = Bugianen\n",
      "Meta update {'bounds': '7.73437,45.58329,9.14063,46.55886',\n",
      " 'center': '8.43750,46.07108,10',\n",
      " 'maxzoom': 16,\n",
      " 'minzoom': 10,\n",
      " 'type': 'baselayer'}\n",
      "Created: alps7-Ticino-Jungfrau-Lorenzhorn-MtRosa\n"
     ]
    }
   ],
   "source": [
    "mbtch7 = paths[7].replace('alps', 'mch')\n",
    "M.mbt_merge(mbtit7, mbtch7, dest=paths[7], name=names[7])"
   ]
  },
  {
   "attachments": {},
   "cell_type": "markdown",
   "metadata": {},
   "source": [
    "Since the merged file is over 2Gb, I've changed slightly the `bbalps[6]` and `7` definition,\n",
    "moving the limit from *lng77z9_sanremo_zermatt* to *lng80z10_imperia_biella*\n"
   ]
  },
  {
   "cell_type": "code",
   "execution_count": 31,
   "metadata": {},
   "outputs": [
    {
     "name": "stdout",
     "output_type": "stream",
     "text": [
      "10 16 16\n",
      "z 10: +8 tiles: 534<x<535 658<y<661\n",
      "z 11: +28 tiles: 1068<x<1071 1317<y<1323\n",
      "z 12: +128 tiles: 2136<x<2143 2632<y<2647\n",
      "z 13: +504 tiles: 4272<x<4287 5264<y<5295\n",
      "z 14: +2016 tiles: 8544<x<8575 10528<y<10591\n",
      "z 15: +8064 tiles: 17088<x<17151 21056<y<21183\n",
      "z 16: +32256 tiles: 34176<x<34303 42112<y<42367\n",
      "Meta update {'bounds': '7.73437,45.58329,8.4375,46.55886',\n",
      " 'center': '8.08594,46.07108,10',\n",
      " 'maxzoom': 16,\n",
      " 'minzoom': 10,\n",
      " 'type': 'baselayer'}\n",
      "10 16 16\n",
      "z 10: +4 tiles: 534<x<534 658<y<661\n",
      "z 11: +14 tiles: 1068<x<1069 1317<y<1323\n",
      "z 12: +64 tiles: 2136<x<2139 2632<y<2647\n",
      "z 13: +256 tiles: 4272<x<4279 5264<y<5295\n",
      "z 14: +1024 tiles: 8544<x<8559 10528<y<10591\n",
      "z 15: +4096 tiles: 17088<x<17119 21056<y<21183\n",
      "z 16: +16384 tiles: 34176<x<34239 42112<y<42367\n",
      "Meta update {'bounds': '7.73437,45.58329,8.08594,46.55886',\n",
      " 'center': '7.91016,46.07108,10',\n",
      " 'maxzoom': 16,\n",
      " 'minzoom': 10,\n",
      " 'type': 'baselayer'}\n"
     ]
    }
   ],
   "source": [
    "bb7to6 = M.LLBb(GY.lng77z9_sanremo_zermatt, GY.lat55z9_chambery_biella_trieste, GY.lng80z10_imperia_biella, GY.lat65z9_lausanne_smoritz_bolzano)\n",
    "M.cut_to_lnglat(paths[7], bb=bb7to6, dest='tmp7to6small.mbtiles')"
   ]
  },
  {
   "cell_type": "code",
   "execution_count": 24,
   "metadata": {},
   "outputs": [
    {
     "name": "stdout",
     "output_type": "stream",
     "text": [
      "real bounds  10 [7.73, 45.58, 8.09, 46.56] 534 658 534 661\n",
      "real bounds  11 [7.73, 45.71, 8.09, 46.56] 1068 1317 1069 1323\n",
      "real bounds  12 [7.73, 45.58, 8.09, 46.56] 2136 2632 2139 2647\n",
      "real bounds  13 [7.73, 45.58, 8.09, 46.56] 4272 5264 4279 5295\n",
      "real bounds  14 [7.73, 45.58, 8.09, 46.56] 8544 10528 8559 10591\n",
      "real bounds  15 [7.73, 45.58, 8.09, 46.56] 17088 21056 17119 21183\n",
      "real bounds  16 [7.73, 45.58, 8.09, 46.56] 34176 42112 34239 42367\n"
     ]
    },
    {
     "data": {
      "text/plain": [
       "(10,\n",
       " 16,\n",
       " LngLatBbox(west=7.734374999999989, south=45.58328975600631, east=8.085937500000016, north=46.55886030311717))"
      ]
     },
     "execution_count": 24,
     "metadata": {},
     "output_type": "execute_result"
    }
   ],
   "source": [
    "M.real_bounds('tmp7to6small.mbtiles', log=print)"
   ]
  },
  {
   "cell_type": "code",
   "execution_count": 8,
   "metadata": {},
   "outputs": [
    {
     "name": "stdout",
     "output_type": "stream",
     "text": [
      "real bounds  10 [7.03, 45.58, 7.73, 46.56] 532 658 533 661\n",
      "real bounds  11 [7.03, 45.58, 7.73, 46.56] 1064 1316 1067 1323\n",
      "real bounds  12 [7.03, 45.58, 7.73, 46.56] 2128 2632 2135 2647\n",
      "real bounds  13 [7.03, 45.58, 7.73, 46.56] 4256 5264 4271 5295\n",
      "real bounds  14 [7.03, 45.58, 7.73, 46.56] 8512 10528 8543 10591\n",
      "real bounds  15 [7.03, 45.58, 7.73, 46.56] 17024 21056 17087 21183\n",
      "real bounds  16 [7.03, 45.58, 7.73, 46.56] 34048 42112 34175 42367\n"
     ]
    },
    {
     "data": {
      "text/plain": [
       "(10,\n",
       " 16,\n",
       " LngLatBbox(west=7.03125000000001, south=45.58328975600631, east=7.734375000000008, north=46.55886030311717))"
      ]
     },
     "execution_count": 8,
     "metadata": {},
     "output_type": "execute_result"
    }
   ],
   "source": [
    "M.real_bounds('alps6-Aoste-Martigny-Gruyère.mbtiles', log=print)"
   ]
  },
  {
   "cell_type": "code",
   "execution_count": 13,
   "metadata": {},
   "outputs": [
    {
     "name": "stdout",
     "output_type": "stream",
     "text": [
      "cp alps6-Aoste-Martigny-Gruyère.mbtiles alps6-Aoste-Martigny-Monch-MtRosa.mbtiles\n",
      "<<>> alps6-Aoste-Martigny-Gruyère : zoom = 10 16 ; n = 43687 * 30 kb/tile q = 80 ; bounds = 7.03125,45.58329,7.73438,46.55886 ; center = 7.38281,46.07108,10 ; format = jpg ; name = alps6-Aoste-Martigny-Gruyère\n",
      "<< tmp7to6small : zoom = 10 16 ; n = 21842 * 30 kb/tile q = 80 ; bounds = 7.73437,45.58329,8.4375,46.55886 ; center = 8.08594,46.07108,10 ; format = jpg ; name = alps7-Ticino-Jungfrau-Lorenzhorn-MtRosa\n",
      ">> alps6-Aoste-Martigny-Monch-MtRosa : zoom = 10 16 ; n = 65529 q = 80 ; bounds = 7.03125,45.58329,7.73438,46.55886 ; center = 7.38281,46.07108,10 ; format = jpg ; name = alps6-Aoste-Martigny-Gruyère\n",
      "Meta update {'bounds': '7.03125,45.58329,8.08594,46.55886',\n",
      " 'center': '7.55859,46.07108,10',\n",
      " 'maxzoom': 16,\n",
      " 'minzoom': 10,\n",
      " 'type': 'baselayer'}\n",
      "Created: alps6-Aoste-Martigny-Monch-MtRosa\n"
     ]
    }
   ],
   "source": [
    "M.mbt_merge('alps6-Aoste-Martigny-Gruyère.mbtiles', 'tmp7to6small.mbtiles', dest=paths[6], name=names[6])"
   ]
  },
  {
   "cell_type": "code",
   "execution_count": 17,
   "metadata": {},
   "outputs": [],
   "source": [
    "M.update_mbt_meta(paths[6], desc=\n",
    "    M.get_meta('alps6-Aoste-Martigny-Gruyère.mbtiles')['description'])"
   ]
  },
  {
   "cell_type": "code",
   "execution_count": 18,
   "metadata": {},
   "outputs": [
    {
     "data": {
      "text/plain": [
       "{'bounds': '7.03125,45.58329,8.08594,46.55886',\n",
       " 'name': 'alps6-Aoste-Martigny-Monch-MtRosa',\n",
       " 'type': 'baselayer',\n",
       " 'version': '1.1',\n",
       " 'description': 'Merge of the following files:\\n* Bugianen : Bugianen 2205 Cervino : Mappa escursionistica delle alpi piemontesi, valdostane e dintorni.\\nLicenza Creative Commons CC BY-NC-SA 3.0 IT.\\nPer la legenda e l\\'origine dei dati visita <a href=\"https://tartamillo.wordpress.com/sorbetto/\">tartamillo.wordpress.com/sorbetto/</a>\\n* frit5-Mont-Blanc-Leman-Cervino-Cogne : IGNt5-MontBlanc-Chambery-Evian created on 2021-02-20 01:52:46 by MOBAC\\n* IGN France baselayer z9-12 : IGN France baselayer z9-12\\n* SwissTopo mix-scale : Switzerland SwissTopo National Map, zoom 9-16. https://map.geo.admin.ch\\nUnlike the website, this is a downscaled version when possible (1 zoom level up for each layer).\\n',\n",
       " 'format': 'jpg',\n",
       " 'attribution': '<a href=\"https://tartamillo.wordpress.com/sorbetto/\">© tartamillo.wordpress.com</a>. Source data: OpenStreetMap contributors, Regione Piemonte, Regione Val d\\'Aosta, Regione Liguria, IGN France, Swisstopo',\n",
       " 'maxzoom': '16',\n",
       " 'minzoom': '10',\n",
       " 'center': '7.55859,46.07108,10'}"
      ]
     },
     "execution_count": 18,
     "metadata": {},
     "output_type": "execute_result"
    }
   ],
   "source": [
    "M.get_meta(paths[6])"
   ]
  },
  {
   "cell_type": "code",
   "execution_count": 25,
   "metadata": {},
   "outputs": [
    {
     "name": "stdout",
     "output_type": "stream",
     "text": [
      "cp alps7-Ticino-Jungfrau-Lorenzhorn-MtRosa.mbtiles alps7-Ticino-Finsteraarhorn-Lorenzhorn.mbtiles\n",
      "<<>> alps7-Ticino-Jungfrau-Lorenzhorn-MtRosa : zoom = 10 16 ; n = 77519 * 29 kb/tile q = 80 ; bounds = 7.73437,45.58329,8.08594,46.55886 ; center = 7.91016,46.07108,10 ; format = jpg ; name = alps7-Ticino-Jungfrau-Lorenzhorn-MtRosa\n",
      "10 16 16\n",
      "z 10 : removed 4\n",
      "z 11 : removed 14\n",
      "z 12 : removed 64\n",
      "z 13 : removed 256\n",
      "z 14 : removed 1024\n",
      "z 15 : removed 4096\n",
      "z 16 : removed 16384\n",
      "Meta update {'bounds': '8.08594,45.58329,9.14063,46.55886',\n",
      " 'center': '8.61328,46.07108,10',\n",
      " 'maxzoom': 16,\n",
      " 'minzoom': 10,\n",
      " 'type': 'baselayer'}\n"
     ]
    }
   ],
   "source": [
    "M.remove_lnglat('alps7-Ticino-Jungfrau-Lorenzhorn-MtRosa.mbtiles', paths[7], bb=bb7to6)"
   ]
  },
  {
   "cell_type": "code",
   "execution_count": 27,
   "metadata": {},
   "outputs": [
    {
     "name": "stdout",
     "output_type": "stream",
     "text": [
      "real bounds  10 [8.09, 45.58, 9.14, 46.56] 535 658 537 661\n",
      "real bounds  11 [8.09, 45.71, 9.14, 46.56] 1070 1317 1075 1323\n",
      "real bounds  12 [8.09, 45.58, 9.14, 46.56] 2140 2632 2151 2647\n",
      "real bounds  13 [8.09, 45.58, 9.14, 46.56] 4280 5264 4303 5295\n",
      "real bounds  14 [8.09, 45.58, 9.14, 46.56] 8560 10528 8607 10591\n",
      "real bounds  15 [8.09, 45.58, 9.14, 46.56] 17120 21056 17215 21183\n",
      "real bounds  16 [8.09, 45.58, 9.14, 46.56] 34240 42112 34431 42367\n"
     ]
    },
    {
     "data": {
      "text/plain": [
       "(10,\n",
       " 16,\n",
       " LngLatBbox(west=8.085937500000014, south=45.58328975600631, east=9.140625000000002, north=46.55886030311717))"
      ]
     },
     "execution_count": 27,
     "metadata": {},
     "output_type": "execute_result"
    }
   ],
   "source": [
    "M.real_bounds(paths[7], log=print)"
   ]
  },
  {
   "attachments": {},
   "cell_type": "markdown",
   "metadata": {},
   "source": [
    "# Kompass"
   ]
  },
  {
   "cell_type": "code",
   "execution_count": null,
   "metadata": {},
   "outputs": [
    {
     "name": "stdout",
     "output_type": "stream",
     "text": [
      "real bounds  8 [8.44, 45.09, 12.66, 47.99] 134 164 136 166\n",
      "real bounds  9 [9.14, 45.58, 12.66, 47.99] 269 329 273 333\n",
      "real bounds  10 [9.14, 45.83, 12.66, 47.75] 538 659 547 666\n",
      "real bounds  11 [9.14, 45.83, 12.48, 47.75] 1076 1318 1094 1333\n",
      "real bounds  12 [9.14, 45.83, 12.48, 47.75] 2152 2636 2189 2667\n",
      "real bounds  13 [9.14, 45.83, 12.48, 47.75] 4304 5272 4379 5335\n",
      "real bounds  14 [9.14, 45.83, 12.48, 47.75] 8608 10544 8759 10671\n",
      "real bounds  15 [9.14, 45.83, 12.48, 47.75] 17216 21088 17519 21343\n"
     ]
    },
    {
     "data": {
      "text/plain": [
       "(8,\n",
       " 15,\n",
       " LngLatBbox(west=8.437500000000005, south=45.08903556483102, east=12.656250000000009, north=47.98992166741418))"
      ]
     },
     "metadata": {},
     "output_type": "display_data"
    }
   ],
   "source": [
    "M.real_bounds('../mobac_atlases/Kompass_dolo.mbtiles', log=print)"
   ]
  },
  {
   "cell_type": "markdown",
   "metadata": {},
   "source": []
  },
  {
   "cell_type": "code",
   "execution_count": null,
   "metadata": {},
   "outputs": [
    {
     "name": "stdout",
     "output_type": "stream",
     "text": [
      "LngLatBbox(west=Decimal('8.438'), south=Decimal('45.093'), east=Decimal('12.655'), north=Decimal('47.990')) LngLat(lng=10.5465, lat=46.5415) 8 135 8\n"
     ]
    },
    {
     "data": {
      "text/plain": [
       "LngLatBbox(west=10.37109, south=45.8288, east=12.48047, north=47.5172)"
      ]
     },
     "metadata": {},
     "output_type": "display_data"
    }
   ],
   "source": [
    "M.compute_inner_bounds('../mobac_atlases/Kompass_dolo.mbtiles')"
   ]
  },
  {
   "cell_type": "code",
   "execution_count": null,
   "metadata": {},
   "outputs": [
    {
     "data": {
      "text/plain": [
       "LngLatBbox(west=11.95313, south=46.43029, east=11.95312, north=46.67959)"
      ]
     },
     "metadata": {},
     "output_type": "display_data"
    }
   ],
   "source": [
    "M.compute_strictest_bounds('../mobac_atlases/Kompass_dolo.mbtiles')"
   ]
  },
  {
   "attachments": {},
   "cell_type": "markdown",
   "metadata": {},
   "source": [
    "# `alps8` and `alps10` (and `alps11` soon): Merge SwissTopo and Kompass"
   ]
  },
  {
   "cell_type": "code",
   "execution_count": 92,
   "metadata": {},
   "outputs": [
    {
     "name": "stdout",
     "output_type": "stream",
     "text": [
      "rm: cannot remove 'alps8-Como-Mesolcina-Adamello-Ortler.mbtiles': No such file or directory\n",
      "cut_to_lnglat Kompass_dolo.mbtiles -> alps8-Como-Mesolcina-Adamello-Ortler.mbtiles\n",
      "10 15 15\n",
      "z 10: +12 tiles: 538<x<541 659<y<661\n",
      "z 11: +48 tiles: 1076<x<1083 1318<y<1323\n",
      "z 12: +192 tiles: 2152<x<2167 2636<y<2647\n",
      "z 13: +768 tiles: 4304<x<4335 5272<y<5295\n",
      "z 14: +3072 tiles: 8608<x<8671 10544<y<10591\n",
      "z 15: +12288 tiles: 17216<x<17343 21088<y<21183\n",
      "Fallback `center` to first tile:  8 134 164 9.140625000000004 45.58113309511968\n",
      "Meta update {'bounds': '9.14062,45.8288,10.54688,46.55886',\n",
      " 'center': '9.14063,45.58113,8',\n",
      " 'maxzoom': 15,\n",
      " 'minzoom': 10,\n",
      " 'type': 'baselayer'}\n",
      "<< mch : zoom = 9 16 ; n = 280691 * 28 kb/tile q = 95 ; bounds = 9.14062,45.58329,10.54688,46.55886 ; center = 4.57031,44.83975,9 ; format = jpeg ; name = SwissTopo mix-scale\n",
      "Overwriting  /tmp/tmp.mbtiles\n",
      "cut_to_lnglat mch.mbtiles -> /tmp/tmp.mbtiles\n",
      "10 16 16\n",
      "z 10: +16 tiles: 538<x<541 658<y<661\n",
      "z 11: +38 tiles: 1076<x<1083 1317<y<1323\n",
      "z 12: +256 tiles: 2152<x<2167 2632<y<2647\n",
      "z 13: +608 tiles: 4304<x<4335 5268<y<5295\n",
      "z 14: +2122 tiles: 8608<x<8671 10536<y<10591\n",
      "z 15: +8517 tiles: 17216<x<17343 21072<y<21183\n",
      "z 16: +16698 tiles: 34432<x<34687 42169<y<42367\n",
      "Fallback `center` to first tile:  9 262 327 4.570312499999986 44.83975137306993\n",
      "Meta update {'bounds': '9.14062,45.58329,10.54688,46.55886',\n",
      " 'center': '4.57031,44.83975,9',\n",
      " 'maxzoom': 16,\n",
      " 'minzoom': 10,\n",
      " 'type': 'baselayer'}\n",
      ">> alps8-Como-Mesolcina-Adamello-Ortler : zoom = 10 16 ; n = 33820 q = 88 ; bounds = 9.14062,45.8288,10.54688,46.55886 ; center = 9.14063,45.58113,8 ; format = jpg ; name = Kompass_dolo\n",
      "Meta update {'bounds': '9.14062,45.58329,10.54688,46.55886',\n",
      " 'center': '9.84375,46.07108,10',\n",
      " 'maxzoom': 16,\n",
      " 'minzoom': 10,\n",
      " 'type': 'baselayer'}\n",
      "Created: alps8-Como-Mesolcina-Adamello-Ortler\n"
     ]
    }
   ],
   "source": [
    "!rm alps8-Como-Mesolcina-Adamello-Ortler.mbtiles\n",
    "M.mbt_merge('Kompass_dolo.mbtiles', 'mch.mbtiles',\n",
    "            dest=paths[8], bb=GY.bbalps[8], name=E.bbalp_names[8], zmin=10, log=print)"
   ]
  },
  {
   "cell_type": "code",
   "execution_count": null,
   "metadata": {},
   "outputs": [
    {
     "name": "stdout",
     "output_type": "stream",
     "text": [
      "Updated 306\n"
     ]
    }
   ],
   "source": [
    "M.update_with(source='chz12.mbtiles', dest=paths[8])"
   ]
  },
  {
   "cell_type": "code",
   "execution_count": 93,
   "metadata": {},
   "outputs": [
    {
     "name": "stdout",
     "output_type": "stream",
     "text": [
      "<< Kompass_dolo : zoom = 8 15 ; n = 71118 * 32 kb/tile q = 89 ; bounds = 9.14062,45.8288,10.54688,46.55886 ; center = 9.14063,45.58113,8 ; format = jpg ; name = Kompass_dolo\n",
      "cut_to_lnglat Kompass_dolo.mbtiles -> /tmp/tmp.mbtiles\n",
      "10 15 15\n",
      "z 10: +5 tiles: 538<x<541 662<y<663\n",
      "z 11: +11 tiles: 1076<x<1083 1324<y<1327\n",
      "z 12: +44 tiles: 2152<x<2167 2648<y<2655\n",
      "z 13: +176 tiles: 4304<x<4335 5296<y<5311\n",
      "z 14: +704 tiles: 8608<x<8671 10592<y<10623\n",
      "z 15: +2816 tiles: 17216<x<17343 21184<y<21247\n",
      "Fallback `center` to first tile:  8 134 164 9.140625000000004 45.58113309511968\n",
      "Meta update {'bounds': '9.14062,46.55886,10.54688,47.04018',\n",
      " 'center': '9.14063,45.58113,8',\n",
      " 'maxzoom': 15,\n",
      " 'minzoom': 10,\n",
      " 'type': 'baselayer'}\n",
      ">> alps10-CHCE-Realp-Pfunds : zoom = 9 16 ; n = 64373 q = 88 ; bounds = 8.4375,46.55886,10.54688,47.04018 ; center = 9.49219,46.79952,9 ; format = jpeg ; name = alps10-CHCE-Realp-Pfunds\n",
      "<< mch : zoom = 9 16 ; n = 280691 * 28 kb/tile q = 95 ; bounds = 9.14062,45.58329,10.54688,46.55886 ; center = 4.57031,44.83975,9 ; format = jpeg ; name = SwissTopo mix-scale\n",
      "cut_to_lnglat mch.mbtiles -> /tmp/tmp.mbtiles\n",
      "10 16 16\n",
      "z 10: +12 tiles: 536<x<541 662<y<663\n",
      "z 11: +48 tiles: 1072<x<1083 1324<y<1327\n",
      "z 12: +192 tiles: 2144<x<2167 2648<y<2655\n",
      "z 13: +768 tiles: 4288<x<4335 5296<y<5311\n",
      "z 14: +3050 tiles: 8576<x<8671 10592<y<10623\n",
      "z 15: +12202 tiles: 17152<x<17343 21184<y<21247\n",
      "z 16: +47990 tiles: 34304<x<34687 42368<y<42495\n",
      "Fallback `center` to first tile:  9 262 327 4.570312499999986 44.83975137306993\n",
      "Meta update {'bounds': '8.4375,46.55886,10.54688,47.04018',\n",
      " 'center': '4.57031,44.83975,9',\n",
      " 'maxzoom': 16,\n",
      " 'minzoom': 10,\n",
      " 'type': 'baselayer'}\n",
      ">> alps10-CHCE-Realp-Pfunds : zoom = 9 16 ; n = 64373 q = 88 ; bounds = 8.4375,46.55886,10.54688,47.04018 ; center = 9.49219,46.79952,9 ; format = jpeg ; name = alps10-CHCE-Realp-Pfunds\n",
      "Meta update {'bounds': '8.4375,46.55886,10.54688,47.04018',\n",
      " 'center': '9.49219,46.79952,9',\n",
      " 'maxzoom': 16,\n",
      " 'minzoom': 9,\n",
      " 'type': 'baselayer'}\n"
     ]
    }
   ],
   "source": [
    "# !rm alps10\n",
    "M.mbt_merge('Kompass_dolo.mbtiles', 'mch.mbtiles',\n",
    "            dest=paths[10], bb=GY.bbalps[10], name=E.bbalp_names[10], zmin=10, log=print)"
   ]
  },
  {
   "attachments": {},
   "cell_type": "markdown",
   "metadata": {},
   "source": [
    "# `alps10` - just zoom\n",
    "\n"
   ]
  },
  {
   "cell_type": "code",
   "execution_count": 99,
   "metadata": {},
   "outputs": [
    {
     "name": "stdout",
     "output_type": "stream",
     "text": [
      "Backing up source as: ../../mapdata/mbtiles/alps10-CHCE-Realp-Pfunds.mbtiles\n",
      "cp ../../mapdata/mbtiles/alps10-CHCE-Realp-Pfunds.bak.mbtiles ../../mapdata/mbtiles/alps10-CHCE-Realp-Pfunds.mbtiles\n",
      "<<>> ../../mapdata/mbtiles/alps10-CHCE-Realp-Pfunds.bak : zoom = 9 16 ; n = 64373 * 29 kb/tile q = 88 ; bounds = 8.4375,46.55886,10.54688,47.04018 ; center = 9.49219,46.79952,9 ; format = jpeg ; name = alps10-CHCE-Realp-Pfunds\n",
      "z 9 : removed 3\n",
      "Meta update {'bounds': '8.4375,46.55886,10.54688,47.04018',\n",
      " 'center': '9.49219,46.79952,10',\n",
      " 'maxzoom': 16,\n",
      " 'minzoom': 10,\n",
      " 'type': 'baselayer'}\n"
     ]
    }
   ],
   "source": [
    "M.remove_lnglat(paths[10], zmin=9, zmax=9)"
   ]
  },
  {
   "attachments": {},
   "cell_type": "markdown",
   "metadata": {},
   "source": [
    "# `alps11` - Kompass + SwissTopo\n"
   ]
  },
  {
   "cell_type": "code",
   "execution_count": 10,
   "metadata": {},
   "outputs": [
    {
     "name": "stdout",
     "output_type": "stream",
     "text": [
      "Backing up source as: tmpKompass11.mbtiles\n",
      "cut_to_lnglat Kompass_dolo.mbtiles -> tmpKompass11.mbtiles\n",
      "10 15 15\n",
      "z 10: +2 tiles: 538<x<541 664<y<665\n",
      "z 11: +4 tiles: 1076<x<1083 1328<y<1331\n",
      "z 12: +16 tiles: 2152<x<2167 2656<y<2663\n",
      "z 13: +64 tiles: 4304<x<4335 5312<y<5327\n",
      "z 14: +256 tiles: 8608<x<8671 10624<y<10655\n",
      "z 15: +1024 tiles: 17216<x<17343 21248<y<21311\n",
      "Fallback `center` to first tile:  8 134 164 9.140625000000004 45.58113309511968\n",
      "Meta update {'bounds': '10.19531,47.04018,10.54688,47.5172',\n",
      " 'center': '9.14063,45.58113,8',\n",
      " 'maxzoom': 15,\n",
      " 'minzoom': 10,\n",
      " 'type': 'baselayer'}\n"
     ]
    }
   ],
   "source": [
    "N=11\n",
    "M.cut_to_lnglat('Kompass_dolo.mbtiles', bb=GY.bbalps[N], dest='tmpKompass11.mbtiles', zmin=10)\n",
    "# M.update_mbt_meta(paths[12], name=E.bbalp_names[12], desc=E.DESC[12], attrib=E.ATTRIB[12],)"
   ]
  },
  {
   "cell_type": "code",
   "execution_count": 11,
   "metadata": {},
   "outputs": [
    {
     "name": "stdout",
     "output_type": "stream",
     "text": [
      "real bounds  10 [10.2, 47.04, 10.55, 47.52] 541 664 541 665\n",
      "real bounds  11 [10.37, 47.04, 10.55, 47.52] 1083 1328 1083 1331\n",
      "real bounds  12 [10.37, 47.04, 10.55, 47.52] 2166 2656 2167 2663\n",
      "real bounds  13 [10.37, 47.04, 10.55, 47.52] 4332 5312 4335 5327\n",
      "real bounds  14 [10.37, 47.04, 10.55, 47.52] 8664 10624 8671 10655\n",
      "real bounds  15 [10.37, 47.04, 10.55, 47.52] 17328 21248 17343 21311\n",
      "real bounds  10 [8.44, 47.04, 9.84, 47.52] 536 664 539 665\n",
      "real bounds  11 [8.61, 47.04, 9.84, 47.52] 1073 1328 1079 1331\n",
      "real bounds  13 [8.75, 47.04, 9.8, 47.52] 4295 5312 4318 5327\n",
      "real bounds  14 [8.77, 47.04, 9.78, 47.52] 8591 10624 8636 10655\n",
      "real bounds  15 [8.78, 47.04, 9.78, 47.52] 17183 21248 17273 21311\n"
     ]
    },
    {
     "data": {
      "text/plain": [
       "(LngLatBbox(west=8.789, south=47.04018, east=10.54688, north=47.5172),\n",
       " (10,\n",
       "  15,\n",
       "  LngLatBbox(west=10.19531249999999, south=47.04018214480665, east=10.546875000000016, north=47.51720069783939)),\n",
       " (10,\n",
       "  15,\n",
       "  LngLatBbox(west=8.437500000000005, south=47.04018214480665, east=9.843750000000009, north=47.51720069783939)))"
      ]
     },
     "execution_count": 11,
     "metadata": {},
     "output_type": "execute_result"
    }
   ],
   "source": [
    "GY.bbalps[N],\\\n",
    "M.real_bounds('tmpKompass11.mbtiles', log=print),\\\n",
    "M.real_bounds('ch11.mbtiles', log=print)"
   ]
  },
  {
   "cell_type": "code",
   "execution_count": 12,
   "metadata": {},
   "outputs": [
    {
     "name": "stdout",
     "output_type": "stream",
     "text": [
      "cut_to_lnglat chz12.mbtiles -> tmp.mbtiles\n",
      "10 12 12\n",
      "z 10: +12 tiles: 536<x<541 664<y<665\n",
      "z 11: +44 tiles: 1073<x<1083 1328<y<1331\n",
      "z 12: +168 tiles: 2147<x<2167 2656<y<2663\n",
      "Meta update {'bounds': '8.4375,47.04018,10.54688,47.5172',\n",
      " 'center': '9.49219,47.27869,10',\n",
      " 'maxzoom': 12,\n",
      " 'minzoom': 10,\n",
      " 'type': 'baselayer'}\n"
     ]
    }
   ],
   "source": [
    "M.cut_to_lnglat('chz12.mbtiles', bb=GY.bbalps[N], dest='tmp.mbtiles')\n"
   ]
  },
  {
   "cell_type": "code",
   "execution_count": 13,
   "metadata": {},
   "outputs": [
    {
     "name": "stdout",
     "output_type": "stream",
     "text": [
      "cp tmpKompass11.mbtiles alps11-CHNE-Zurich-LH-Lechtal.mbtiles\n",
      "<<>> tmpKompass11 : zoom = 10 15 ; n = 1366 * 35 kb/tile q = 89 ; bounds = 10.19531,47.04018,10.54688,47.5172 ; center = 9.14063,45.58113,8 ; format = jpg ; name = Kompass_dolo\n",
      "<< tmp : zoom = 10 12 ; n = 224 * 37 kb/tile q = 88 ; bounds = 8.4375,47.04018,9.84375,47.5172 ; center = 9.14063,47.27869,10 ; format = jpeg ; name = chz12\n",
      ">> alps11-CHNE-Zurich-LH-Lechtal : zoom = 10 15 ; n = 1568 q = 89 ; bounds = 10.19531,47.04018,10.54688,47.5172 ; center = 9.14063,45.58113,8 ; format = jpg ; name = Kompass_dolo\n",
      "<< ch11 : zoom = 10 15 ; n = 7716 * 33 kb/tile q = 88 ; bounds = 8.4375,47.04018,9.84375,47.5172 ; center = 9.14063,47.27869,10 ; format = jpeg ; name = ch11\n",
      ">> alps11-CHNE-Zurich-LH-Lechtal : zoom = 10 15 ; n = 9248 q = 88 ; bounds = 10.19531,47.04018,10.54688,47.5172 ; center = 9.14063,45.58113,8 ; format = jpg ; name = Kompass_dolo\n",
      "Meta update {'bounds': '8.4375,47.04018,10.54688,47.5172',\n",
      " 'center': '9.49219,47.27869,10',\n",
      " 'maxzoom': 15,\n",
      " 'minzoom': 10,\n",
      " 'type': 'baselayer'}\n",
      "Created: alps11-CHNE-Zurich-LH-Lechtal\n"
     ]
    }
   ],
   "source": [
    "M.mbt_merge('tmpKompass11.mbtiles',  'tmp.mbtiles', 'ch11.mbtiles', dest=paths[N])"
   ]
  },
  {
   "cell_type": "code",
   "execution_count": null,
   "metadata": {},
   "outputs": [],
   "source": []
  },
  {
   "attachments": {},
   "cell_type": "markdown",
   "metadata": {},
   "source": [
    "# `alps12` - Kompass cut\n",
    "\n",
    "*Waiting for the Swisstopo low-zoom update (etopo#2)\n",
    "before merging with Kompass since impact is tiny anyway.*"
   ]
  },
  {
   "cell_type": "code",
   "execution_count": 94,
   "metadata": {},
   "outputs": [
    {
     "name": "stdout",
     "output_type": "stream",
     "text": [
      "cut_to_lnglat Kompass_dolo.mbtiles -> alps12-Arco-Innsbruck-Bruneck-Marmolada.mbtiles\n",
      "10 15 15\n",
      "z 10: +28 tiles: 542<x<545 659<y<665\n",
      "z 11: +112 tiles: 1084<x<1091 1318<y<1331\n",
      "z 12: +448 tiles: 2168<x<2183 2636<y<2663\n",
      "z 13: +1792 tiles: 4336<x<4367 5272<y<5327\n",
      "z 14: +7168 tiles: 8672<x<8735 10544<y<10655\n",
      "z 15: +28672 tiles: 17344<x<17471 21088<y<21311\n",
      "Fallback `center` to first tile:  8 134 164 9.140625000000004 45.58113309511968\n",
      "Meta update {'bounds': '10.54688,45.8288,11.95313,47.5172',\n",
      " 'center': '9.14063,45.58113,8',\n",
      " 'maxzoom': 15,\n",
      " 'minzoom': 10,\n",
      " 'type': 'baselayer'}\n"
     ]
    },
    {
     "ename": "AttributeError",
     "evalue": "module 'mbt_util' has no attribute 'update_meta'",
     "output_type": "error",
     "traceback": [
      "\u001b[0;31m---------------------------------------------------------------------------\u001b[0m",
      "\u001b[0;31mAttributeError\u001b[0m                            Traceback (most recent call last)",
      "Cell \u001b[0;32mIn [94], line 2\u001b[0m\n\u001b[1;32m      1\u001b[0m M\u001b[39m.\u001b[39mcut_to_lnglat(\u001b[39m'\u001b[39m\u001b[39mKompass_dolo.mbtiles\u001b[39m\u001b[39m'\u001b[39m, bb\u001b[39m=\u001b[39mGY\u001b[39m.\u001b[39mbbalps[\u001b[39m12\u001b[39m], dest\u001b[39m=\u001b[39mpaths[\u001b[39m12\u001b[39m], zmin\u001b[39m=\u001b[39m\u001b[39m10\u001b[39m)\n\u001b[0;32m----> 2\u001b[0m M\u001b[39m.\u001b[39;49mupdate_meta(name\u001b[39m=\u001b[39mE\u001b[39m.\u001b[39mbbalp_names[\u001b[39m12\u001b[39m], desc\u001b[39m=\u001b[39mE\u001b[39m.\u001b[39mDESC[\u001b[39m12\u001b[39m], attrib\u001b[39m=\u001b[39mE\u001b[39m.\u001b[39mATTRIB[\u001b[39m12\u001b[39m],)\n",
      "\u001b[0;31mAttributeError\u001b[0m: module 'mbt_util' has no attribute 'update_meta'"
     ]
    }
   ],
   "source": [
    "M.cut_to_lnglat('Kompass_dolo.mbtiles', bb=GY.bbalps[12], dest=paths[12], zmin=10)\n",
    "# M.update_mbt_meta(paths[12], name=E.bbalp_names[12], desc=E.DESC[12], attrib=E.ATTRIB[12],)"
   ]
  },
  {
   "cell_type": "code",
   "execution_count": null,
   "metadata": {},
   "outputs": [],
   "source": [
    "# root='/opt/map/mapdata/mbtiles/'\n",
    "# M.mbt_merge(root+'../mobac_atlases/IGN-walps-z9-10.mbtiles', root+'mchz12.mbtiles',\n",
    "#             dest=root+'pyrealpsz12.mbtiles',\n",
    "#             name='pyrenées-alps low zoom (IGN-z10+SwissTopo-z12)')"
   ]
  },
  {
   "attachments": {},
   "cell_type": "markdown",
   "metadata": {},
   "source": [
    "# Temp - `alps0&2`"
   ]
  },
  {
   "cell_type": "code",
   "execution_count": 71,
   "metadata": {},
   "outputs": [
    {
     "name": "stdout",
     "output_type": "stream",
     "text": [
      "cut_to_lnglat ../mobac_atlases/IGNt0-Aix-Toulon-Antibes.mbtiles -> alps0-1.mbtiles\n",
      "10 16 16\n",
      "z 10: +5 tiles: 530<x<532 648<y<649\n",
      "z 11: +15 tiles: 1060<x<1064 1296<y<1299\n",
      "z 12: +53 tiles: 2120<x<2129 2592<y<2599\n",
      "z 13: +202 tiles: 4240<x<4258 5184<y<5199\n",
      "z 14: +782 tiles: 8480<x<8517 10368<y<10399\n",
      "z 15: +3049 tiles: 16960<x<17035 20736<y<20799\n",
      "z 16: +12118 tiles: 33920<x<34071 41472<y<41599\n",
      "Meta update {'bounds': '6.32812,43.06889,7.38281,43.58039',\n",
      " 'center': '6.85547,43.32464,10',\n",
      " 'maxzoom': 16,\n",
      " 'minzoom': 10,\n",
      " 'type': 'baselayer'}\n"
     ]
    }
   ],
   "source": [
    "M.cut_to_lnglat('../mobac_atlases/IGNt0-Aix-Toulon-Antibes.mbtiles', bb= GY.bbalps0, dest='alps0-1.mbtiles',)\n",
    "    #bb= GY.LLBb(GY.lng63z9_digne_thones_pontarlier, lat35z9_antibes, lng80z10_imperia_biella, lat45z9_gap)"
   ]
  },
  {
   "cell_type": "code",
   "execution_count": 65,
   "metadata": {},
   "outputs": [
    {
     "name": "stdout",
     "output_type": "stream",
     "text": [
      "cut_to_lnglat ../mobac_atlases/IGNt0-Aix-Toulon-Antibes.mbtiles -> alps2-0-tmp.mbtiles\n",
      "10 16 16\n",
      "z 10: +6 tiles: 527<x<529 648<y<649\n",
      "z 11: +24 tiles: 1054<x<1059 1296<y<1299\n",
      "z 12: +96 tiles: 2108<x<2119 2592<y<2599\n",
      "z 13: +384 tiles: 4216<x<4239 5184<y<5199\n",
      "z 14: +1536 tiles: 8432<x<8479 10368<y<10399\n",
      "z 15: +6144 tiles: 16864<x<16959 20736<y<20799\n",
      "z 16: +23808 tiles: 33728<x<33919 41472<y<41599\n",
      "Meta update {'bounds': '5.27344,43.06889,6.32813,43.58039',\n",
      " 'center': '5.80078,43.32464,10',\n",
      " 'maxzoom': 16,\n",
      " 'minzoom': 10,\n",
      " 'type': 'baselayer'}\n"
     ]
    }
   ],
   "source": [
    "M.cut_to_lnglat('../mobac_atlases/IGNt0-Aix-Toulon-Antibes.mbtiles', bb= GY.bbalps2, dest='alps2-0-tmp.mbtiles',)\n"
   ]
  },
  {
   "cell_type": "code",
   "execution_count": 66,
   "metadata": {},
   "outputs": [
    {
     "name": "stdout",
     "output_type": "stream",
     "text": [
      "Deduplicated 0 tiles.\n",
      "<< alps2-0-tmp : zoom = 10 16 ; n = 31998 * 18 kb/tile q = 75 ; bounds = 5.27344,43.06889,7.38281,43.58039 ; center = 6.32812,43.32464,10 ; format = jpg ; name = IGNt0-Aix-Hyeres-AntibesToulon\n",
      ">> alps2-Digne-Aups-Eguilles-Gap : zoom = 10 16 ; n = 97530 q = 75 ; bounds = 5.27344,43.58039,6.32813,44.59047 ; center = 5.80078,44.08543,10 ; format = jpg ; name = IGNt2-Digne-Aups-Eguilles-Gap\n",
      "Meta update {'bounds': '5.27344,43.06889,6.32813,44.59047',\n",
      " 'center': '5.80078,43.82968,10',\n",
      " 'maxzoom': 16,\n",
      " 'minzoom': 10,\n",
      " 'type': 'baselayer'}\n"
     ]
    }
   ],
   "source": [
    "M.mbt_merge('alps2-0-tmp.mbtiles', dest='alps2-Digne-Aups-Eguilles-Gap.mbtiles')"
   ]
  },
  {
   "cell_type": "code",
   "execution_count": 44,
   "metadata": {},
   "outputs": [
    {
     "name": "stdout",
     "output_type": "stream",
     "text": [
      "b'\\xff\\xd8\\xff\\xe0\\x00\\x10JFIF'\n"
     ]
    },
    {
     "data": {
      "image/jpeg": "[encoded data removed]",
      "text/plain": [
       "<IPython.core.display.Image object>"
      ]
     },
     "metadata": {},
     "output_type": "display_data"
    }
   ],
   "source": [
    "from IPython.display import Image as DImage\n",
    "z, x, y, img = next(M.get_all_tiles('swissz12_2023.mbtiles', q='WHERE zoom_level=12'))\n",
    "print(img[:10])\n",
    "display(DImage(img))"
   ]
  },
  {
   "cell_type": "code",
   "execution_count": 41,
   "metadata": {},
   "outputs": [
    {
     "name": "stdout",
     "output_type": "stream",
     "text": [
      "b'\\xff\\xd8\\xff\\xe0\\x00\\x10JFIF'\n"
     ]
    },
    {
     "data": {
      "image/jpeg": "[encoded data removed]",
      "text/plain": [
       "<IPython.core.display.Image object>"
      ]
     },
     "metadata": {},
     "output_type": "display_data"
    }
   ],
   "source": [
    "from IPython.display import Image as DImage\n",
    "tiles = M.get_all_tiles('../mobac_atlases/swissz12_2023.mbtiles', q='WHERE zoom_level=12')\n",
    "z, x, y, img = next(tiles)\n",
    "print(img[:10])\n",
    "display(DImage(img))"
   ]
  },
  {
   "cell_type": "code",
   "execution_count": 11,
   "metadata": {},
   "outputs": [
    {
     "name": "stdout",
     "output_type": "stream",
     "text": [
      "cp ../mobac_atlases/IGNt0-Corsica-z16.mbtiles alps0-Corse-Maures-Esterel.mbtiles\n",
      "<<>> ../mobac_atlases/IGNt0-Corsica-z16 : zoom = 13 16 ; n = 72240 * 17 kb/tile q = 75 ; bounds = 8.438,41.245,9.668,43.069 ; format = jpg ; name = IGNt0-Corsica-z16\n",
      "Deduplicated 2656 tiles.\n",
      "<< ../mobac_atlases/IGNt0-z12-Corsica : zoom = 9 12 ; n = 526 * 11 kb/tile q = 75 ; bounds = 8.438,40.982,9.842,43.069 ; format = jpg ; name = IGN-z12-Corsica\n",
      ">> alps0-Corse-Maures-Esterel : zoom = 10 16 ; n = 70102 q = 75 ; bounds = 8.438,41.245,9.668,43.069 ; format = jpg ; name = IGNt0-Corsica-z16\n",
      "<< IGNt0-Cannes-Mimosas-Flayosc : zoom = 10 16 ; n = 16224 * 16 kb/tile q = 75 ; bounds = 5.27344,43.06889,6.32813,43.58039 ; center = 5.80078,43.32464,10 ; format = jpg ; name = IGNt0-Aix-Hyeres-AntibesToulon\n",
      ">> alps0-Corse-Maures-Esterel : zoom = 10 16 ; n = 86326 q = 75 ; bounds = 8.438,41.245,9.668,43.069 ; format = jpg ; name = IGNt0-Corsica-z16\n",
      "Fallback `center` to first tile:  10 530 648 6.503906249999995 43.19703272708128\n",
      "Meta update {'bounds': '6.32812,41.24477,9.84375,43.58039',\n",
      " 'center': '6.50391,43.19703,10',\n",
      " 'maxzoom': 16,\n",
      " 'minzoom': 10,\n",
      " 'type': 'baselayer'}\n",
      "Created: alps0-Corse-Maures-Esterel\n"
     ]
    }
   ],
   "source": [
    "M.mbt_merge(\n",
    "    '../mobac_atlases/IGNt0-Corsica-z16.mbtiles',\n",
    "    '../mobac_atlases/IGNt0-z12-Corsica.mbtiles',\n",
    "    'IGNt0-Cannes-Mimosas-Flayosc.mbtiles',\n",
    "    dest=GY.bbalp_names[0] + '.mbtiles',\n",
    "    zmin=10)"
   ]
  },
  {
   "cell_type": "code",
   "execution_count": null,
   "metadata": {},
   "outputs": [],
   "source": []
  }
 ],
 "metadata": {
  "kernelspec": {
   "display_name": "Python 3",
   "language": "python",
   "name": "python3"
  },
  "language_info": {
   "codemirror_mode": {
    "name": "ipython",
    "version": 3
   },
   "file_extension": ".py",
   "mimetype": "text/x-python",
   "name": "python",
   "nbconvert_exporter": "python",
   "pygments_lexer": "ipython3",
   "version": "3.10.2"
  },
  "orig_nbformat": 4,
  "vscode": {
   "interpreter": {
    "hash": "4913ed92adf4fb24dff325cddf3820899273b13e1364fac2e6040e861e7b0f0a"
   }
  }
 },
 "nbformat": 4,
 "nbformat_minor": 2
}
